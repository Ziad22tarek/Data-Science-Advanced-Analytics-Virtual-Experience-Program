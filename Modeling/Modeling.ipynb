{
 "cells": [
  {
   "cell_type": "markdown",
   "id": "f1e09a94",
   "metadata": {},
   "source": [
    "# Importing the pakages"
   ]
  },
  {
   "cell_type": "code",
   "execution_count": 1,
   "id": "17841c6f",
   "metadata": {},
   "outputs": [],
   "source": [
    "import pandas as pd\n",
    "import missingno as msno\n",
    "import matplotlib.pyplot as plt \n",
    "import seaborn as sns \n",
    "import numpy as np\n",
    "import plotly.express as px\n",
    "import plotly.graph_objects as go"
   ]
  },
  {
   "cell_type": "markdown",
   "id": "0ff51565",
   "metadata": {},
   "source": [
    "# Reading the data"
   ]
  },
  {
   "cell_type": "code",
   "execution_count": 2,
   "id": "a045fad0",
   "metadata": {},
   "outputs": [],
   "source": [
    "client_data=pd.read_csv(r'C:\\Users\\H\\Desktop\\Work\\INternship\\Task 22\\client_data.csv')\n",
    "price_df=pd.read_csv(r'C:\\Users\\H\\Desktop\\Work\\INternship\\Task 22\\price_data.csv')"
   ]
  },
  {
   "cell_type": "code",
   "execution_count": 3,
   "id": "4811a83c",
   "metadata": {},
   "outputs": [
    {
     "data": {
      "text/html": [
       "<div>\n",
       "<style scoped>\n",
       "    .dataframe tbody tr th:only-of-type {\n",
       "        vertical-align: middle;\n",
       "    }\n",
       "\n",
       "    .dataframe tbody tr th {\n",
       "        vertical-align: top;\n",
       "    }\n",
       "\n",
       "    .dataframe thead th {\n",
       "        text-align: right;\n",
       "    }\n",
       "</style>\n",
       "<table border=\"1\" class=\"dataframe\">\n",
       "  <thead>\n",
       "    <tr style=\"text-align: right;\">\n",
       "      <th></th>\n",
       "      <th>id</th>\n",
       "      <th>channel_sales</th>\n",
       "      <th>cons_12m</th>\n",
       "      <th>cons_gas_12m</th>\n",
       "      <th>cons_last_month</th>\n",
       "      <th>date_activ</th>\n",
       "      <th>date_end</th>\n",
       "      <th>date_modif_prod</th>\n",
       "      <th>date_renewal</th>\n",
       "      <th>forecast_cons_12m</th>\n",
       "      <th>...</th>\n",
       "      <th>has_gas</th>\n",
       "      <th>imp_cons</th>\n",
       "      <th>margin_gross_pow_ele</th>\n",
       "      <th>margin_net_pow_ele</th>\n",
       "      <th>nb_prod_act</th>\n",
       "      <th>net_margin</th>\n",
       "      <th>num_years_antig</th>\n",
       "      <th>origin_up</th>\n",
       "      <th>pow_max</th>\n",
       "      <th>churn</th>\n",
       "    </tr>\n",
       "  </thead>\n",
       "  <tbody>\n",
       "    <tr>\n",
       "      <th>0</th>\n",
       "      <td>24011ae4ebbe3035111d65fa7c15bc57</td>\n",
       "      <td>foosdfpfkusacimwkcsosbicdxkicaua</td>\n",
       "      <td>0</td>\n",
       "      <td>54946</td>\n",
       "      <td>0</td>\n",
       "      <td>2013-06-15</td>\n",
       "      <td>2016-06-15</td>\n",
       "      <td>2015-11-01</td>\n",
       "      <td>2015-06-23</td>\n",
       "      <td>0.00</td>\n",
       "      <td>...</td>\n",
       "      <td>t</td>\n",
       "      <td>0.00</td>\n",
       "      <td>25.44</td>\n",
       "      <td>25.44</td>\n",
       "      <td>2</td>\n",
       "      <td>678.99</td>\n",
       "      <td>3</td>\n",
       "      <td>lxidpiddsbxsbosboudacockeimpuepw</td>\n",
       "      <td>43.648</td>\n",
       "      <td>1</td>\n",
       "    </tr>\n",
       "    <tr>\n",
       "      <th>1</th>\n",
       "      <td>d29c2c54acc38ff3c0614d0a653813dd</td>\n",
       "      <td>MISSING</td>\n",
       "      <td>4660</td>\n",
       "      <td>0</td>\n",
       "      <td>0</td>\n",
       "      <td>2009-08-21</td>\n",
       "      <td>2016-08-30</td>\n",
       "      <td>2009-08-21</td>\n",
       "      <td>2015-08-31</td>\n",
       "      <td>189.95</td>\n",
       "      <td>...</td>\n",
       "      <td>f</td>\n",
       "      <td>0.00</td>\n",
       "      <td>16.38</td>\n",
       "      <td>16.38</td>\n",
       "      <td>1</td>\n",
       "      <td>18.89</td>\n",
       "      <td>6</td>\n",
       "      <td>kamkkxfxxuwbdslkwifmmcsiusiuosws</td>\n",
       "      <td>13.800</td>\n",
       "      <td>0</td>\n",
       "    </tr>\n",
       "    <tr>\n",
       "      <th>2</th>\n",
       "      <td>764c75f661154dac3a6c254cd082ea7d</td>\n",
       "      <td>foosdfpfkusacimwkcsosbicdxkicaua</td>\n",
       "      <td>544</td>\n",
       "      <td>0</td>\n",
       "      <td>0</td>\n",
       "      <td>2010-04-16</td>\n",
       "      <td>2016-04-16</td>\n",
       "      <td>2010-04-16</td>\n",
       "      <td>2015-04-17</td>\n",
       "      <td>47.96</td>\n",
       "      <td>...</td>\n",
       "      <td>f</td>\n",
       "      <td>0.00</td>\n",
       "      <td>28.60</td>\n",
       "      <td>28.60</td>\n",
       "      <td>1</td>\n",
       "      <td>6.60</td>\n",
       "      <td>6</td>\n",
       "      <td>kamkkxfxxuwbdslkwifmmcsiusiuosws</td>\n",
       "      <td>13.856</td>\n",
       "      <td>0</td>\n",
       "    </tr>\n",
       "    <tr>\n",
       "      <th>3</th>\n",
       "      <td>bba03439a292a1e166f80264c16191cb</td>\n",
       "      <td>lmkebamcaaclubfxadlmueccxoimlema</td>\n",
       "      <td>1584</td>\n",
       "      <td>0</td>\n",
       "      <td>0</td>\n",
       "      <td>2010-03-30</td>\n",
       "      <td>2016-03-30</td>\n",
       "      <td>2010-03-30</td>\n",
       "      <td>2015-03-31</td>\n",
       "      <td>240.04</td>\n",
       "      <td>...</td>\n",
       "      <td>f</td>\n",
       "      <td>0.00</td>\n",
       "      <td>30.22</td>\n",
       "      <td>30.22</td>\n",
       "      <td>1</td>\n",
       "      <td>25.46</td>\n",
       "      <td>6</td>\n",
       "      <td>kamkkxfxxuwbdslkwifmmcsiusiuosws</td>\n",
       "      <td>13.200</td>\n",
       "      <td>0</td>\n",
       "    </tr>\n",
       "    <tr>\n",
       "      <th>4</th>\n",
       "      <td>149d57cf92fc41cf94415803a877cb4b</td>\n",
       "      <td>MISSING</td>\n",
       "      <td>4425</td>\n",
       "      <td>0</td>\n",
       "      <td>526</td>\n",
       "      <td>2010-01-13</td>\n",
       "      <td>2016-03-07</td>\n",
       "      <td>2010-01-13</td>\n",
       "      <td>2015-03-09</td>\n",
       "      <td>445.75</td>\n",
       "      <td>...</td>\n",
       "      <td>f</td>\n",
       "      <td>52.32</td>\n",
       "      <td>44.91</td>\n",
       "      <td>44.91</td>\n",
       "      <td>1</td>\n",
       "      <td>47.98</td>\n",
       "      <td>6</td>\n",
       "      <td>kamkkxfxxuwbdslkwifmmcsiusiuosws</td>\n",
       "      <td>19.800</td>\n",
       "      <td>0</td>\n",
       "    </tr>\n",
       "  </tbody>\n",
       "</table>\n",
       "<p>5 rows × 26 columns</p>\n",
       "</div>"
      ],
      "text/plain": [
       "                                 id                     channel_sales  \\\n",
       "0  24011ae4ebbe3035111d65fa7c15bc57  foosdfpfkusacimwkcsosbicdxkicaua   \n",
       "1  d29c2c54acc38ff3c0614d0a653813dd                           MISSING   \n",
       "2  764c75f661154dac3a6c254cd082ea7d  foosdfpfkusacimwkcsosbicdxkicaua   \n",
       "3  bba03439a292a1e166f80264c16191cb  lmkebamcaaclubfxadlmueccxoimlema   \n",
       "4  149d57cf92fc41cf94415803a877cb4b                           MISSING   \n",
       "\n",
       "   cons_12m  cons_gas_12m  cons_last_month  date_activ    date_end  \\\n",
       "0         0         54946                0  2013-06-15  2016-06-15   \n",
       "1      4660             0                0  2009-08-21  2016-08-30   \n",
       "2       544             0                0  2010-04-16  2016-04-16   \n",
       "3      1584             0                0  2010-03-30  2016-03-30   \n",
       "4      4425             0              526  2010-01-13  2016-03-07   \n",
       "\n",
       "  date_modif_prod date_renewal  forecast_cons_12m  ...  has_gas  imp_cons  \\\n",
       "0      2015-11-01   2015-06-23               0.00  ...        t      0.00   \n",
       "1      2009-08-21   2015-08-31             189.95  ...        f      0.00   \n",
       "2      2010-04-16   2015-04-17              47.96  ...        f      0.00   \n",
       "3      2010-03-30   2015-03-31             240.04  ...        f      0.00   \n",
       "4      2010-01-13   2015-03-09             445.75  ...        f     52.32   \n",
       "\n",
       "   margin_gross_pow_ele  margin_net_pow_ele  nb_prod_act  net_margin  \\\n",
       "0                 25.44               25.44            2      678.99   \n",
       "1                 16.38               16.38            1       18.89   \n",
       "2                 28.60               28.60            1        6.60   \n",
       "3                 30.22               30.22            1       25.46   \n",
       "4                 44.91               44.91            1       47.98   \n",
       "\n",
       "  num_years_antig                         origin_up  pow_max  churn  \n",
       "0               3  lxidpiddsbxsbosboudacockeimpuepw   43.648      1  \n",
       "1               6  kamkkxfxxuwbdslkwifmmcsiusiuosws   13.800      0  \n",
       "2               6  kamkkxfxxuwbdslkwifmmcsiusiuosws   13.856      0  \n",
       "3               6  kamkkxfxxuwbdslkwifmmcsiusiuosws   13.200      0  \n",
       "4               6  kamkkxfxxuwbdslkwifmmcsiusiuosws   19.800      0  \n",
       "\n",
       "[5 rows x 26 columns]"
      ]
     },
     "execution_count": 3,
     "metadata": {},
     "output_type": "execute_result"
    }
   ],
   "source": [
    "client_data.head()"
   ]
  },
  {
   "cell_type": "code",
   "execution_count": 4,
   "id": "09701a03",
   "metadata": {},
   "outputs": [
    {
     "data": {
      "text/plain": [
       "<AxesSubplot:>"
      ]
     },
     "execution_count": 4,
     "metadata": {},
     "output_type": "execute_result"
    },
    {
     "data": {
      "image/png": "[encoded data removed]",
      "text/plain": [
       "<Figure size 1080x576 with 2 Axes>"
      ]
     },
     "metadata": {
      "needs_background": "light"
     },
     "output_type": "display_data"
    }
   ],
   "source": [
    "# Visulaizing the correlation between columns in client_data\n",
    "corr=client_data.corr()\n",
    "plt.figure(figsize=(15,8))\n",
    "mask=np.triu(np.ones_like(corr,dtype='bool'))\n",
    "sns.heatmap(corr,mask=mask,annot=True)"
   ]
  },
  {
   "cell_type": "markdown",
   "id": "84246df3",
   "metadata": {},
   "source": [
    "# Feature Engineering\n",
    "__________________________________\n",
    "1. Creating Features\n",
    "2. Creating Dummies for catagorical columns\n",
    "3. Scalling \n",
    "4. Removing Outliers"
   ]
  },
  {
   "cell_type": "markdown",
   "id": "40a2b8a1",
   "metadata": {},
   "source": [
    "### 1. Creating Features"
   ]
  },
  {
   "cell_type": "code",
   "execution_count": 5,
   "id": "63ce80c2",
   "metadata": {},
   "outputs": [
    {
     "data": {
      "text/html": [
       "<div>\n",
       "<style scoped>\n",
       "    .dataframe tbody tr th:only-of-type {\n",
       "        vertical-align: middle;\n",
       "    }\n",
       "\n",
       "    .dataframe tbody tr th {\n",
       "        vertical-align: top;\n",
       "    }\n",
       "\n",
       "    .dataframe thead th {\n",
       "        text-align: right;\n",
       "    }\n",
       "</style>\n",
       "<table border=\"1\" class=\"dataframe\">\n",
       "  <thead>\n",
       "    <tr style=\"text-align: right;\">\n",
       "      <th></th>\n",
       "      <th>id</th>\n",
       "      <th>offpeak_diff_dec_january_energy</th>\n",
       "      <th>offpeak_diff_dec_january_power</th>\n",
       "    </tr>\n",
       "  </thead>\n",
       "  <tbody>\n",
       "    <tr>\n",
       "      <th>0</th>\n",
       "      <td>0002203ffbb812588b632b9e628cc38d</td>\n",
       "      <td>-0.006192</td>\n",
       "      <td>0.162916</td>\n",
       "    </tr>\n",
       "    <tr>\n",
       "      <th>1</th>\n",
       "      <td>0004351ebdd665e6ee664792efc4fd13</td>\n",
       "      <td>-0.004104</td>\n",
       "      <td>0.177779</td>\n",
       "    </tr>\n",
       "    <tr>\n",
       "      <th>2</th>\n",
       "      <td>0010bcc39e42b3c2131ed2ce55246e3c</td>\n",
       "      <td>0.050443</td>\n",
       "      <td>1.500000</td>\n",
       "    </tr>\n",
       "    <tr>\n",
       "      <th>3</th>\n",
       "      <td>0010ee3855fdea87602a5b7aba8e42de</td>\n",
       "      <td>-0.010018</td>\n",
       "      <td>0.162916</td>\n",
       "    </tr>\n",
       "    <tr>\n",
       "      <th>4</th>\n",
       "      <td>00114d74e963e47177db89bc70108537</td>\n",
       "      <td>-0.003994</td>\n",
       "      <td>-0.000001</td>\n",
       "    </tr>\n",
       "  </tbody>\n",
       "</table>\n",
       "</div>"
      ],
      "text/plain": [
       "                                 id  offpeak_diff_dec_january_energy  \\\n",
       "0  0002203ffbb812588b632b9e628cc38d                        -0.006192   \n",
       "1  0004351ebdd665e6ee664792efc4fd13                        -0.004104   \n",
       "2  0010bcc39e42b3c2131ed2ce55246e3c                         0.050443   \n",
       "3  0010ee3855fdea87602a5b7aba8e42de                        -0.010018   \n",
       "4  00114d74e963e47177db89bc70108537                        -0.003994   \n",
       "\n",
       "   offpeak_diff_dec_january_power  \n",
       "0                        0.162916  \n",
       "1                        0.177779  \n",
       "2                        1.500000  \n",
       "3                        0.162916  \n",
       "4                       -0.000001  "
      ]
     },
     "execution_count": 5,
     "metadata": {},
     "output_type": "execute_result"
    }
   ],
   "source": [
    "#the difference between off-peak prices in December and January the preceding year\n",
    "price_df[\"price_date\"] = pd.to_datetime(price_df[\"price_date\"], format='%Y-%m-%d')\n",
    "# Group off-peak prices by companies and month\n",
    "monthly_price_by_id = price_df.groupby(['id', 'price_date']).agg({'price_off_peak_var': 'mean', 'price_off_peak_fix': 'mean'}).reset_index()\n",
    "\n",
    "# Get january and december prices\n",
    "jan_prices = monthly_price_by_id.groupby('id').first().reset_index()\n",
    "dec_prices = monthly_price_by_id.groupby('id').last().reset_index()\n",
    "\n",
    "# Calculate the difference\n",
    "diff = pd.merge(dec_prices.rename(columns={'price_off_peak_var': 'dec_1', 'price_off_peak_fix': 'dec_2'}), jan_prices.drop(columns='price_date'), on='id')\n",
    "diff['offpeak_diff_dec_january_energy'] = diff['dec_1'] - diff['price_off_peak_var']\n",
    "diff['offpeak_diff_dec_january_power'] = diff['dec_2'] - diff['price_off_peak_fix']\n",
    "diff = diff[['id', 'offpeak_diff_dec_january_energy','offpeak_diff_dec_january_power']]\n",
    "diff.head()"
   ]
  },
  {
   "cell_type": "code",
   "execution_count": 6,
   "id": "51d72419",
   "metadata": {},
   "outputs": [
    {
     "data": {
      "text/html": [
       "<div>\n",
       "<style scoped>\n",
       "    .dataframe tbody tr th:only-of-type {\n",
       "        vertical-align: middle;\n",
       "    }\n",
       "\n",
       "    .dataframe tbody tr th {\n",
       "        vertical-align: top;\n",
       "    }\n",
       "\n",
       "    .dataframe thead th {\n",
       "        text-align: right;\n",
       "    }\n",
       "</style>\n",
       "<table border=\"1\" class=\"dataframe\">\n",
       "  <thead>\n",
       "    <tr style=\"text-align: right;\">\n",
       "      <th></th>\n",
       "      <th>id</th>\n",
       "      <th>channel_sales</th>\n",
       "      <th>cons_12m</th>\n",
       "      <th>cons_gas_12m</th>\n",
       "      <th>cons_last_month</th>\n",
       "      <th>date_activ</th>\n",
       "      <th>date_end</th>\n",
       "      <th>date_modif_prod</th>\n",
       "      <th>date_renewal</th>\n",
       "      <th>forecast_cons_12m</th>\n",
       "      <th>...</th>\n",
       "      <th>margin_gross_pow_ele</th>\n",
       "      <th>margin_net_pow_ele</th>\n",
       "      <th>nb_prod_act</th>\n",
       "      <th>net_margin</th>\n",
       "      <th>num_years_antig</th>\n",
       "      <th>origin_up</th>\n",
       "      <th>pow_max</th>\n",
       "      <th>churn</th>\n",
       "      <th>offpeak_diff_dec_january_energy</th>\n",
       "      <th>offpeak_diff_dec_january_power</th>\n",
       "    </tr>\n",
       "  </thead>\n",
       "  <tbody>\n",
       "    <tr>\n",
       "      <th>0</th>\n",
       "      <td>24011ae4ebbe3035111d65fa7c15bc57</td>\n",
       "      <td>foosdfpfkusacimwkcsosbicdxkicaua</td>\n",
       "      <td>0</td>\n",
       "      <td>54946</td>\n",
       "      <td>0</td>\n",
       "      <td>2013-06-15</td>\n",
       "      <td>2016-06-15</td>\n",
       "      <td>2015-11-01</td>\n",
       "      <td>2015-06-23</td>\n",
       "      <td>0.00</td>\n",
       "      <td>...</td>\n",
       "      <td>25.44</td>\n",
       "      <td>25.44</td>\n",
       "      <td>2</td>\n",
       "      <td>678.99</td>\n",
       "      <td>3</td>\n",
       "      <td>lxidpiddsbxsbosboudacockeimpuepw</td>\n",
       "      <td>43.648</td>\n",
       "      <td>1</td>\n",
       "      <td>0.020057</td>\n",
       "      <td>3.700961</td>\n",
       "    </tr>\n",
       "    <tr>\n",
       "      <th>1</th>\n",
       "      <td>d29c2c54acc38ff3c0614d0a653813dd</td>\n",
       "      <td>MISSING</td>\n",
       "      <td>4660</td>\n",
       "      <td>0</td>\n",
       "      <td>0</td>\n",
       "      <td>2009-08-21</td>\n",
       "      <td>2016-08-30</td>\n",
       "      <td>2009-08-21</td>\n",
       "      <td>2015-08-31</td>\n",
       "      <td>189.95</td>\n",
       "      <td>...</td>\n",
       "      <td>16.38</td>\n",
       "      <td>16.38</td>\n",
       "      <td>1</td>\n",
       "      <td>18.89</td>\n",
       "      <td>6</td>\n",
       "      <td>kamkkxfxxuwbdslkwifmmcsiusiuosws</td>\n",
       "      <td>13.800</td>\n",
       "      <td>0</td>\n",
       "      <td>-0.003767</td>\n",
       "      <td>0.177779</td>\n",
       "    </tr>\n",
       "    <tr>\n",
       "      <th>2</th>\n",
       "      <td>764c75f661154dac3a6c254cd082ea7d</td>\n",
       "      <td>foosdfpfkusacimwkcsosbicdxkicaua</td>\n",
       "      <td>544</td>\n",
       "      <td>0</td>\n",
       "      <td>0</td>\n",
       "      <td>2010-04-16</td>\n",
       "      <td>2016-04-16</td>\n",
       "      <td>2010-04-16</td>\n",
       "      <td>2015-04-17</td>\n",
       "      <td>47.96</td>\n",
       "      <td>...</td>\n",
       "      <td>28.60</td>\n",
       "      <td>28.60</td>\n",
       "      <td>1</td>\n",
       "      <td>6.60</td>\n",
       "      <td>6</td>\n",
       "      <td>kamkkxfxxuwbdslkwifmmcsiusiuosws</td>\n",
       "      <td>13.856</td>\n",
       "      <td>0</td>\n",
       "      <td>-0.004670</td>\n",
       "      <td>0.177779</td>\n",
       "    </tr>\n",
       "    <tr>\n",
       "      <th>3</th>\n",
       "      <td>bba03439a292a1e166f80264c16191cb</td>\n",
       "      <td>lmkebamcaaclubfxadlmueccxoimlema</td>\n",
       "      <td>1584</td>\n",
       "      <td>0</td>\n",
       "      <td>0</td>\n",
       "      <td>2010-03-30</td>\n",
       "      <td>2016-03-30</td>\n",
       "      <td>2010-03-30</td>\n",
       "      <td>2015-03-31</td>\n",
       "      <td>240.04</td>\n",
       "      <td>...</td>\n",
       "      <td>30.22</td>\n",
       "      <td>30.22</td>\n",
       "      <td>1</td>\n",
       "      <td>25.46</td>\n",
       "      <td>6</td>\n",
       "      <td>kamkkxfxxuwbdslkwifmmcsiusiuosws</td>\n",
       "      <td>13.200</td>\n",
       "      <td>0</td>\n",
       "      <td>-0.004547</td>\n",
       "      <td>0.177779</td>\n",
       "    </tr>\n",
       "    <tr>\n",
       "      <th>4</th>\n",
       "      <td>149d57cf92fc41cf94415803a877cb4b</td>\n",
       "      <td>MISSING</td>\n",
       "      <td>4425</td>\n",
       "      <td>0</td>\n",
       "      <td>526</td>\n",
       "      <td>2010-01-13</td>\n",
       "      <td>2016-03-07</td>\n",
       "      <td>2010-01-13</td>\n",
       "      <td>2015-03-09</td>\n",
       "      <td>445.75</td>\n",
       "      <td>...</td>\n",
       "      <td>44.91</td>\n",
       "      <td>44.91</td>\n",
       "      <td>1</td>\n",
       "      <td>47.98</td>\n",
       "      <td>6</td>\n",
       "      <td>kamkkxfxxuwbdslkwifmmcsiusiuosws</td>\n",
       "      <td>19.800</td>\n",
       "      <td>0</td>\n",
       "      <td>-0.006192</td>\n",
       "      <td>0.162916</td>\n",
       "    </tr>\n",
       "  </tbody>\n",
       "</table>\n",
       "<p>5 rows × 28 columns</p>\n",
       "</div>"
      ],
      "text/plain": [
       "                                 id                     channel_sales  \\\n",
       "0  24011ae4ebbe3035111d65fa7c15bc57  foosdfpfkusacimwkcsosbicdxkicaua   \n",
       "1  d29c2c54acc38ff3c0614d0a653813dd                           MISSING   \n",
       "2  764c75f661154dac3a6c254cd082ea7d  foosdfpfkusacimwkcsosbicdxkicaua   \n",
       "3  bba03439a292a1e166f80264c16191cb  lmkebamcaaclubfxadlmueccxoimlema   \n",
       "4  149d57cf92fc41cf94415803a877cb4b                           MISSING   \n",
       "\n",
       "   cons_12m  cons_gas_12m  cons_last_month  date_activ    date_end  \\\n",
       "0         0         54946                0  2013-06-15  2016-06-15   \n",
       "1      4660             0                0  2009-08-21  2016-08-30   \n",
       "2       544             0                0  2010-04-16  2016-04-16   \n",
       "3      1584             0                0  2010-03-30  2016-03-30   \n",
       "4      4425             0              526  2010-01-13  2016-03-07   \n",
       "\n",
       "  date_modif_prod date_renewal  forecast_cons_12m  ...  margin_gross_pow_ele  \\\n",
       "0      2015-11-01   2015-06-23               0.00  ...                 25.44   \n",
       "1      2009-08-21   2015-08-31             189.95  ...                 16.38   \n",
       "2      2010-04-16   2015-04-17              47.96  ...                 28.60   \n",
       "3      2010-03-30   2015-03-31             240.04  ...                 30.22   \n",
       "4      2010-01-13   2015-03-09             445.75  ...                 44.91   \n",
       "\n",
       "   margin_net_pow_ele  nb_prod_act  net_margin  num_years_antig  \\\n",
       "0               25.44            2      678.99                3   \n",
       "1               16.38            1       18.89                6   \n",
       "2               28.60            1        6.60                6   \n",
       "3               30.22            1       25.46                6   \n",
       "4               44.91            1       47.98                6   \n",
       "\n",
       "                          origin_up pow_max  churn  \\\n",
       "0  lxidpiddsbxsbosboudacockeimpuepw  43.648      1   \n",
       "1  kamkkxfxxuwbdslkwifmmcsiusiuosws  13.800      0   \n",
       "2  kamkkxfxxuwbdslkwifmmcsiusiuosws  13.856      0   \n",
       "3  kamkkxfxxuwbdslkwifmmcsiusiuosws  13.200      0   \n",
       "4  kamkkxfxxuwbdslkwifmmcsiusiuosws  19.800      0   \n",
       "\n",
       "   offpeak_diff_dec_january_energy  offpeak_diff_dec_january_power  \n",
       "0                         0.020057                        3.700961  \n",
       "1                        -0.003767                        0.177779  \n",
       "2                        -0.004670                        0.177779  \n",
       "3                        -0.004547                        0.177779  \n",
       "4                        -0.006192                        0.162916  \n",
       "\n",
       "[5 rows x 28 columns]"
      ]
     },
     "execution_count": 6,
     "metadata": {},
     "output_type": "execute_result"
    }
   ],
   "source": [
    "# Merging the diff dataframe with client_data\n",
    "data=client_data.merge(diff,on='id')\n",
    "data.head()"
   ]
  },
  {
   "cell_type": "code",
   "execution_count": 7,
   "id": "c4132fd7",
   "metadata": {},
   "outputs": [],
   "source": [
    "#converting the date columns to DateTime\n",
    "data['date_activ']=pd.to_datetime(data['date_activ'])\n",
    "data['date_end']=pd.to_datetime(data['date_end'])\n",
    "data['date_modif_prod']=pd.to_datetime(data['date_modif_prod'])\n",
    "data['date_renewal']=pd.to_datetime(data['date_renewal'])\n"
   ]
  },
  {
   "cell_type": "code",
   "execution_count": 8,
   "id": "faff0585",
   "metadata": {},
   "outputs": [
    {
     "data": {
      "text/plain": [
       "0        3.0\n",
       "1        7.0\n",
       "2        6.0\n",
       "3        6.0\n",
       "4        6.0\n",
       "        ... \n",
       "14601    4.0\n",
       "14602    4.0\n",
       "14603    4.0\n",
       "14604    4.0\n",
       "14605    7.0\n",
       "Name: tenure, Length: 14606, dtype: float64"
      ]
     },
     "execution_count": 8,
     "metadata": {},
     "output_type": "execute_result"
    }
   ],
   "source": [
    "#Creating a Tenure column that will represent the difference between date_end and date_activ\n",
    "data['tenure']=(data['date_end']-data['date_activ'])\n",
    "data['tenure']=round(data['tenure']/ np.timedelta64(1,'Y'))\n",
    "data.tenure"
   ]
  },
  {
   "cell_type": "code",
   "execution_count": 9,
   "id": "61f1d2a5",
   "metadata": {},
   "outputs": [
    {
     "data": {
      "text/plain": [
       "<AxesSubplot:>"
      ]
     },
     "execution_count": 9,
     "metadata": {},
     "output_type": "execute_result"
    },
    {
     "data": {
      "image/png": "[encoded data removed]",
      "text/plain": [
       "<Figure size 1296x1080 with 2 Axes>"
      ]
     },
     "metadata": {
      "needs_background": "light"
     },
     "output_type": "display_data"
    }
   ],
   "source": [
    "# Visulaizing the correlation between columns in data\n",
    "corr=data.corr()\n",
    "plt.figure(figsize=(18,15))\n",
    "mask=np.triu(np.ones_like(corr,dtype='bool'))\n",
    "sns.heatmap(corr,mask=mask,annot=True)"
   ]
  },
  {
   "cell_type": "code",
   "execution_count": 10,
   "id": "a227f2b1",
   "metadata": {},
   "outputs": [],
   "source": [
    "# Creating average year price and last 6 months\n",
    "var_year=price_df.groupby(by=['id','price_date']).mean().groupby(by='id').var().reset_index()\n",
    "var_6m=price_df[price_df['price_date']>'2015-06-01'].groupby(by=['id','price_date']).mean().groupby(by='id').var().reset_index()"
   ]
  },
  {
   "cell_type": "code",
   "execution_count": 11,
   "id": "821b7545",
   "metadata": {},
   "outputs": [
    {
     "data": {
      "text/html": [
       "<div>\n",
       "<style scoped>\n",
       "    .dataframe tbody tr th:only-of-type {\n",
       "        vertical-align: middle;\n",
       "    }\n",
       "\n",
       "    .dataframe tbody tr th {\n",
       "        vertical-align: top;\n",
       "    }\n",
       "\n",
       "    .dataframe thead th {\n",
       "        text-align: right;\n",
       "    }\n",
       "</style>\n",
       "<table border=\"1\" class=\"dataframe\">\n",
       "  <thead>\n",
       "    <tr style=\"text-align: right;\">\n",
       "      <th></th>\n",
       "      <th>id</th>\n",
       "      <th>price_off_peak_var</th>\n",
       "      <th>price_peak_var</th>\n",
       "      <th>price_mid_peak_var</th>\n",
       "      <th>price_off_peak_fix</th>\n",
       "      <th>price_peak_fix</th>\n",
       "      <th>price_mid_peak_fix</th>\n",
       "    </tr>\n",
       "  </thead>\n",
       "  <tbody>\n",
       "    <tr>\n",
       "      <th>0</th>\n",
       "      <td>0002203ffbb812588b632b9e628cc38d</td>\n",
       "      <td>0.000016</td>\n",
       "      <td>0.000004</td>\n",
       "      <td>1.871602e-06</td>\n",
       "      <td>4.021438e-03</td>\n",
       "      <td>0.001448</td>\n",
       "      <td>0.000643</td>\n",
       "    </tr>\n",
       "    <tr>\n",
       "      <th>1</th>\n",
       "      <td>0004351ebdd665e6ee664792efc4fd13</td>\n",
       "      <td>0.000005</td>\n",
       "      <td>0.000000</td>\n",
       "      <td>0.000000e+00</td>\n",
       "      <td>7.661891e-03</td>\n",
       "      <td>0.000000</td>\n",
       "      <td>0.000000</td>\n",
       "    </tr>\n",
       "    <tr>\n",
       "      <th>2</th>\n",
       "      <td>0010bcc39e42b3c2131ed2ce55246e3c</td>\n",
       "      <td>0.000676</td>\n",
       "      <td>0.000000</td>\n",
       "      <td>0.000000e+00</td>\n",
       "      <td>5.965909e-01</td>\n",
       "      <td>0.000000</td>\n",
       "      <td>0.000000</td>\n",
       "    </tr>\n",
       "    <tr>\n",
       "      <th>3</th>\n",
       "      <td>0010ee3855fdea87602a5b7aba8e42de</td>\n",
       "      <td>0.000025</td>\n",
       "      <td>0.000007</td>\n",
       "      <td>1.627620e-07</td>\n",
       "      <td>7.238536e-03</td>\n",
       "      <td>0.002606</td>\n",
       "      <td>0.001158</td>\n",
       "    </tr>\n",
       "    <tr>\n",
       "      <th>4</th>\n",
       "      <td>00114d74e963e47177db89bc70108537</td>\n",
       "      <td>0.000005</td>\n",
       "      <td>0.000000</td>\n",
       "      <td>0.000000e+00</td>\n",
       "      <td>3.490909e-13</td>\n",
       "      <td>0.000000</td>\n",
       "      <td>0.000000</td>\n",
       "    </tr>\n",
       "  </tbody>\n",
       "</table>\n",
       "</div>"
      ],
      "text/plain": [
       "                                 id  price_off_peak_var  price_peak_var  \\\n",
       "0  0002203ffbb812588b632b9e628cc38d            0.000016        0.000004   \n",
       "1  0004351ebdd665e6ee664792efc4fd13            0.000005        0.000000   \n",
       "2  0010bcc39e42b3c2131ed2ce55246e3c            0.000676        0.000000   \n",
       "3  0010ee3855fdea87602a5b7aba8e42de            0.000025        0.000007   \n",
       "4  00114d74e963e47177db89bc70108537            0.000005        0.000000   \n",
       "\n",
       "   price_mid_peak_var  price_off_peak_fix  price_peak_fix  price_mid_peak_fix  \n",
       "0        1.871602e-06        4.021438e-03        0.001448            0.000643  \n",
       "1        0.000000e+00        7.661891e-03        0.000000            0.000000  \n",
       "2        0.000000e+00        5.965909e-01        0.000000            0.000000  \n",
       "3        1.627620e-07        7.238536e-03        0.002606            0.001158  \n",
       "4        0.000000e+00        3.490909e-13        0.000000            0.000000  "
      ]
     },
     "execution_count": 11,
     "metadata": {},
     "output_type": "execute_result"
    }
   ],
   "source": [
    "var_year.head()"
   ]
  },
  {
   "cell_type": "code",
   "execution_count": 12,
   "id": "9abfd974",
   "metadata": {},
   "outputs": [],
   "source": [
    "#Adding the peak_var columns to peak_fix columns\n",
    "var_year['var_year_price_p1']=var_year['price_off_peak_var']+var_year['price_off_peak_fix']\n",
    "var_year['var_year_price_p2']=var_year['price_peak_var']+var_year['price_peak_fix']\n",
    "var_year['var_year_price_p3']=var_year['price_mid_peak_var']+var_year['price_mid_peak_fix']"
   ]
  },
  {
   "cell_type": "code",
   "execution_count": 13,
   "id": "0e68749f",
   "metadata": {},
   "outputs": [
    {
     "data": {
      "text/html": [
       "<div>\n",
       "<style scoped>\n",
       "    .dataframe tbody tr th:only-of-type {\n",
       "        vertical-align: middle;\n",
       "    }\n",
       "\n",
       "    .dataframe tbody tr th {\n",
       "        vertical-align: top;\n",
       "    }\n",
       "\n",
       "    .dataframe thead th {\n",
       "        text-align: right;\n",
       "    }\n",
       "</style>\n",
       "<table border=\"1\" class=\"dataframe\">\n",
       "  <thead>\n",
       "    <tr style=\"text-align: right;\">\n",
       "      <th></th>\n",
       "      <th>id</th>\n",
       "      <th>price_off_peak_var</th>\n",
       "      <th>price_peak_var</th>\n",
       "      <th>price_mid_peak_var</th>\n",
       "      <th>price_off_peak_fix</th>\n",
       "      <th>price_peak_fix</th>\n",
       "      <th>price_mid_peak_fix</th>\n",
       "    </tr>\n",
       "  </thead>\n",
       "  <tbody>\n",
       "    <tr>\n",
       "      <th>0</th>\n",
       "      <td>0002203ffbb812588b632b9e628cc38d</td>\n",
       "      <td>0.000011</td>\n",
       "      <td>0.000003</td>\n",
       "      <td>4.860000e-10</td>\n",
       "      <td>0.0</td>\n",
       "      <td>0.0</td>\n",
       "      <td>0.0</td>\n",
       "    </tr>\n",
       "    <tr>\n",
       "      <th>1</th>\n",
       "      <td>0004351ebdd665e6ee664792efc4fd13</td>\n",
       "      <td>0.000003</td>\n",
       "      <td>0.000000</td>\n",
       "      <td>0.000000e+00</td>\n",
       "      <td>0.0</td>\n",
       "      <td>0.0</td>\n",
       "      <td>0.0</td>\n",
       "    </tr>\n",
       "    <tr>\n",
       "      <th>2</th>\n",
       "      <td>0010bcc39e42b3c2131ed2ce55246e3c</td>\n",
       "      <td>0.000003</td>\n",
       "      <td>0.000000</td>\n",
       "      <td>0.000000e+00</td>\n",
       "      <td>0.0</td>\n",
       "      <td>0.0</td>\n",
       "      <td>0.0</td>\n",
       "    </tr>\n",
       "    <tr>\n",
       "      <th>3</th>\n",
       "      <td>0010ee3855fdea87602a5b7aba8e42de</td>\n",
       "      <td>0.000011</td>\n",
       "      <td>0.000003</td>\n",
       "      <td>4.860000e-10</td>\n",
       "      <td>0.0</td>\n",
       "      <td>0.0</td>\n",
       "      <td>0.0</td>\n",
       "    </tr>\n",
       "    <tr>\n",
       "      <th>4</th>\n",
       "      <td>00114d74e963e47177db89bc70108537</td>\n",
       "      <td>0.000003</td>\n",
       "      <td>0.000000</td>\n",
       "      <td>0.000000e+00</td>\n",
       "      <td>0.0</td>\n",
       "      <td>0.0</td>\n",
       "      <td>0.0</td>\n",
       "    </tr>\n",
       "  </tbody>\n",
       "</table>\n",
       "</div>"
      ],
      "text/plain": [
       "                                 id  price_off_peak_var  price_peak_var  \\\n",
       "0  0002203ffbb812588b632b9e628cc38d            0.000011        0.000003   \n",
       "1  0004351ebdd665e6ee664792efc4fd13            0.000003        0.000000   \n",
       "2  0010bcc39e42b3c2131ed2ce55246e3c            0.000003        0.000000   \n",
       "3  0010ee3855fdea87602a5b7aba8e42de            0.000011        0.000003   \n",
       "4  00114d74e963e47177db89bc70108537            0.000003        0.000000   \n",
       "\n",
       "   price_mid_peak_var  price_off_peak_fix  price_peak_fix  price_mid_peak_fix  \n",
       "0        4.860000e-10                 0.0             0.0                 0.0  \n",
       "1        0.000000e+00                 0.0             0.0                 0.0  \n",
       "2        0.000000e+00                 0.0             0.0                 0.0  \n",
       "3        4.860000e-10                 0.0             0.0                 0.0  \n",
       "4        0.000000e+00                 0.0             0.0                 0.0  "
      ]
     },
     "execution_count": 13,
     "metadata": {},
     "output_type": "execute_result"
    }
   ],
   "source": [
    "var_6m.head()"
   ]
  },
  {
   "cell_type": "code",
   "execution_count": 14,
   "id": "a745e4bc",
   "metadata": {},
   "outputs": [],
   "source": [
    "#Adding the peak_var columns to peak_fix columns\n",
    "var_6m['var_year_price_p1']=var_6m['price_off_peak_var']+var_6m['price_off_peak_fix']\n",
    "var_6m['var_year_price_p2']=var_6m['price_peak_var']+var_6m['price_peak_fix']\n",
    "var_6m['var_year_price_p3']=var_6m['price_mid_peak_var']+var_6m['price_mid_peak_fix']"
   ]
  },
  {
   "cell_type": "code",
   "execution_count": 15,
   "id": "eb164412",
   "metadata": {},
   "outputs": [],
   "source": [
    "# combining on one dataframe\n",
    "var_year = var_year.rename(\n",
    "    index=str, \n",
    "    columns={\n",
    "        \"price_p1_var\": \"var_year_price_p1_var\",\n",
    "        \"price_p2_var\": \"var_year_price_p2_var\",\n",
    "        \"price_p3_var\": \"var_year_price_p3_var\",\n",
    "        \"price_p1_fix\": \"var_year_price_p1_fix\",\n",
    "        \"price_p2_fix\": \"var_year_price_p2_fix\",\n",
    "        \"price_p3_fix\": \"var_year_price_p3_fix\"\n",
    "    }\n",
    ")"
   ]
  },
  {
   "cell_type": "code",
   "execution_count": 16,
   "id": "56891c29",
   "metadata": {},
   "outputs": [],
   "source": [
    "var_6m = var_6m.rename(\n",
    "    index=str, \n",
    "    columns={\n",
    "        \"price_p1_var\": \"var_year_6m_p1_var\",\n",
    "        \"price_p2_var\": \"var_year_6m_p2_var\",\n",
    "        \"price_p3_var\": \"var_year_6m_p3_var\",\n",
    "        \"price_p1_fix\": \"var_year_6m_p1_fix\",\n",
    "        \"price_p2_fix\": \"var_year_6m_p2_fix\",\n",
    "        \"price_p3_fix\": \"var_year_6m_p3_fix\"\n",
    "    }\n",
    ")"
   ]
  },
  {
   "cell_type": "code",
   "execution_count": 17,
   "id": "90ff9ef5",
   "metadata": {},
   "outputs": [],
   "source": [
    "#merging to the main data\n",
    "data=data.merge(var_year,on='id')\n",
    "data=data.merge(var_6m,on='id')"
   ]
  },
  {
   "cell_type": "code",
   "execution_count": 18,
   "id": "ecb2b439",
   "metadata": {},
   "outputs": [
    {
     "data": {
      "text/html": [
       "<div>\n",
       "<style scoped>\n",
       "    .dataframe tbody tr th:only-of-type {\n",
       "        vertical-align: middle;\n",
       "    }\n",
       "\n",
       "    .dataframe tbody tr th {\n",
       "        vertical-align: top;\n",
       "    }\n",
       "\n",
       "    .dataframe thead th {\n",
       "        text-align: right;\n",
       "    }\n",
       "</style>\n",
       "<table border=\"1\" class=\"dataframe\">\n",
       "  <thead>\n",
       "    <tr style=\"text-align: right;\">\n",
       "      <th></th>\n",
       "      <th>id</th>\n",
       "      <th>channel_sales</th>\n",
       "      <th>cons_12m</th>\n",
       "      <th>cons_gas_12m</th>\n",
       "      <th>cons_last_month</th>\n",
       "      <th>date_activ</th>\n",
       "      <th>date_end</th>\n",
       "      <th>date_modif_prod</th>\n",
       "      <th>date_renewal</th>\n",
       "      <th>forecast_cons_12m</th>\n",
       "      <th>...</th>\n",
       "      <th>var_year_price_p3_x</th>\n",
       "      <th>price_off_peak_var_y</th>\n",
       "      <th>price_peak_var_y</th>\n",
       "      <th>price_mid_peak_var_y</th>\n",
       "      <th>price_off_peak_fix_y</th>\n",
       "      <th>price_peak_fix_y</th>\n",
       "      <th>price_mid_peak_fix_y</th>\n",
       "      <th>var_year_price_p1_y</th>\n",
       "      <th>var_year_price_p2_y</th>\n",
       "      <th>var_year_price_p3_y</th>\n",
       "    </tr>\n",
       "  </thead>\n",
       "  <tbody>\n",
       "    <tr>\n",
       "      <th>0</th>\n",
       "      <td>24011ae4ebbe3035111d65fa7c15bc57</td>\n",
       "      <td>foosdfpfkusacimwkcsosbicdxkicaua</td>\n",
       "      <td>0</td>\n",
       "      <td>54946</td>\n",
       "      <td>0</td>\n",
       "      <td>2013-06-15</td>\n",
       "      <td>2016-06-15</td>\n",
       "      <td>2015-11-01</td>\n",
       "      <td>2015-06-23</td>\n",
       "      <td>0.00</td>\n",
       "      <td>...</td>\n",
       "      <td>22.022975</td>\n",
       "      <td>0.000131</td>\n",
       "      <td>4.100838e-05</td>\n",
       "      <td>9.084737e-04</td>\n",
       "      <td>2.086294</td>\n",
       "      <td>99.530517</td>\n",
       "      <td>44.235794</td>\n",
       "      <td>2.086425</td>\n",
       "      <td>9.953056e+01</td>\n",
       "      <td>4.423670e+01</td>\n",
       "    </tr>\n",
       "    <tr>\n",
       "      <th>1</th>\n",
       "      <td>d29c2c54acc38ff3c0614d0a653813dd</td>\n",
       "      <td>MISSING</td>\n",
       "      <td>4660</td>\n",
       "      <td>0</td>\n",
       "      <td>0</td>\n",
       "      <td>2009-08-21</td>\n",
       "      <td>2016-08-30</td>\n",
       "      <td>2009-08-21</td>\n",
       "      <td>2015-08-31</td>\n",
       "      <td>189.95</td>\n",
       "      <td>...</td>\n",
       "      <td>0.000000</td>\n",
       "      <td>0.000003</td>\n",
       "      <td>1.217891e-03</td>\n",
       "      <td>0.000000e+00</td>\n",
       "      <td>0.009482</td>\n",
       "      <td>0.000000</td>\n",
       "      <td>0.000000</td>\n",
       "      <td>0.009485</td>\n",
       "      <td>1.217891e-03</td>\n",
       "      <td>0.000000e+00</td>\n",
       "    </tr>\n",
       "    <tr>\n",
       "      <th>2</th>\n",
       "      <td>764c75f661154dac3a6c254cd082ea7d</td>\n",
       "      <td>foosdfpfkusacimwkcsosbicdxkicaua</td>\n",
       "      <td>544</td>\n",
       "      <td>0</td>\n",
       "      <td>0</td>\n",
       "      <td>2010-04-16</td>\n",
       "      <td>2016-04-16</td>\n",
       "      <td>2010-04-16</td>\n",
       "      <td>2015-04-17</td>\n",
       "      <td>47.96</td>\n",
       "      <td>...</td>\n",
       "      <td>0.000000</td>\n",
       "      <td>0.000004</td>\n",
       "      <td>9.450150e-08</td>\n",
       "      <td>0.000000e+00</td>\n",
       "      <td>0.000000</td>\n",
       "      <td>0.000000</td>\n",
       "      <td>0.000000</td>\n",
       "      <td>0.000004</td>\n",
       "      <td>9.450150e-08</td>\n",
       "      <td>0.000000e+00</td>\n",
       "    </tr>\n",
       "    <tr>\n",
       "      <th>3</th>\n",
       "      <td>bba03439a292a1e166f80264c16191cb</td>\n",
       "      <td>lmkebamcaaclubfxadlmueccxoimlema</td>\n",
       "      <td>1584</td>\n",
       "      <td>0</td>\n",
       "      <td>0</td>\n",
       "      <td>2010-03-30</td>\n",
       "      <td>2016-03-30</td>\n",
       "      <td>2010-03-30</td>\n",
       "      <td>2015-03-31</td>\n",
       "      <td>240.04</td>\n",
       "      <td>...</td>\n",
       "      <td>0.000000</td>\n",
       "      <td>0.000003</td>\n",
       "      <td>0.000000e+00</td>\n",
       "      <td>0.000000e+00</td>\n",
       "      <td>0.000000</td>\n",
       "      <td>0.000000</td>\n",
       "      <td>0.000000</td>\n",
       "      <td>0.000003</td>\n",
       "      <td>0.000000e+00</td>\n",
       "      <td>0.000000e+00</td>\n",
       "    </tr>\n",
       "    <tr>\n",
       "      <th>4</th>\n",
       "      <td>149d57cf92fc41cf94415803a877cb4b</td>\n",
       "      <td>MISSING</td>\n",
       "      <td>4425</td>\n",
       "      <td>0</td>\n",
       "      <td>526</td>\n",
       "      <td>2010-01-13</td>\n",
       "      <td>2016-03-07</td>\n",
       "      <td>2010-01-13</td>\n",
       "      <td>2015-03-09</td>\n",
       "      <td>445.75</td>\n",
       "      <td>...</td>\n",
       "      <td>0.000871</td>\n",
       "      <td>0.000011</td>\n",
       "      <td>2.896760e-06</td>\n",
       "      <td>4.860000e-10</td>\n",
       "      <td>0.000000</td>\n",
       "      <td>0.000000</td>\n",
       "      <td>0.000000</td>\n",
       "      <td>0.000011</td>\n",
       "      <td>2.896760e-06</td>\n",
       "      <td>4.860000e-10</td>\n",
       "    </tr>\n",
       "  </tbody>\n",
       "</table>\n",
       "<p>5 rows × 47 columns</p>\n",
       "</div>"
      ],
      "text/plain": [
       "                                 id                     channel_sales  \\\n",
       "0  24011ae4ebbe3035111d65fa7c15bc57  foosdfpfkusacimwkcsosbicdxkicaua   \n",
       "1  d29c2c54acc38ff3c0614d0a653813dd                           MISSING   \n",
       "2  764c75f661154dac3a6c254cd082ea7d  foosdfpfkusacimwkcsosbicdxkicaua   \n",
       "3  bba03439a292a1e166f80264c16191cb  lmkebamcaaclubfxadlmueccxoimlema   \n",
       "4  149d57cf92fc41cf94415803a877cb4b                           MISSING   \n",
       "\n",
       "   cons_12m  cons_gas_12m  cons_last_month date_activ   date_end  \\\n",
       "0         0         54946                0 2013-06-15 2016-06-15   \n",
       "1      4660             0                0 2009-08-21 2016-08-30   \n",
       "2       544             0                0 2010-04-16 2016-04-16   \n",
       "3      1584             0                0 2010-03-30 2016-03-30   \n",
       "4      4425             0              526 2010-01-13 2016-03-07   \n",
       "\n",
       "  date_modif_prod date_renewal  forecast_cons_12m  ...  var_year_price_p3_x  \\\n",
       "0      2015-11-01   2015-06-23               0.00  ...            22.022975   \n",
       "1      2009-08-21   2015-08-31             189.95  ...             0.000000   \n",
       "2      2010-04-16   2015-04-17              47.96  ...             0.000000   \n",
       "3      2010-03-30   2015-03-31             240.04  ...             0.000000   \n",
       "4      2010-01-13   2015-03-09             445.75  ...             0.000871   \n",
       "\n",
       "   price_off_peak_var_y  price_peak_var_y  price_mid_peak_var_y  \\\n",
       "0              0.000131      4.100838e-05          9.084737e-04   \n",
       "1              0.000003      1.217891e-03          0.000000e+00   \n",
       "2              0.000004      9.450150e-08          0.000000e+00   \n",
       "3              0.000003      0.000000e+00          0.000000e+00   \n",
       "4              0.000011      2.896760e-06          4.860000e-10   \n",
       "\n",
       "   price_off_peak_fix_y  price_peak_fix_y price_mid_peak_fix_y  \\\n",
       "0              2.086294         99.530517            44.235794   \n",
       "1              0.009482          0.000000             0.000000   \n",
       "2              0.000000          0.000000             0.000000   \n",
       "3              0.000000          0.000000             0.000000   \n",
       "4              0.000000          0.000000             0.000000   \n",
       "\n",
       "   var_year_price_p1_y  var_year_price_p2_y  var_year_price_p3_y  \n",
       "0             2.086425         9.953056e+01         4.423670e+01  \n",
       "1             0.009485         1.217891e-03         0.000000e+00  \n",
       "2             0.000004         9.450150e-08         0.000000e+00  \n",
       "3             0.000003         0.000000e+00         0.000000e+00  \n",
       "4             0.000011         2.896760e-06         4.860000e-10  \n",
       "\n",
       "[5 rows x 47 columns]"
      ]
     },
     "execution_count": 18,
     "metadata": {},
     "output_type": "execute_result"
    }
   ],
   "source": [
    "data.head()"
   ]
  },
  {
   "cell_type": "markdown",
   "id": "4192379c",
   "metadata": {},
   "source": [
    "### 2. Creating Dummies"
   ]
  },
  {
   "cell_type": "code",
   "execution_count": 19,
   "id": "d0ed045e",
   "metadata": {},
   "outputs": [
    {
     "name": "stderr",
     "output_type": "stream",
     "text": [
      "<ipython-input-19-1a1b004197a9>:5: SettingWithCopyWarning: \n",
      "A value is trying to be set on a copy of a slice from a DataFrame\n",
      "\n",
      "See the caveats in the documentation: https://pandas.pydata.org/pandas-docs/stable/user_guide/indexing.html#returning-a-view-versus-a-copy\n",
      "  data['channel_sales'][mask]='other'\n"
     ]
    },
    {
     "data": {
      "text/plain": [
       "foosdfpfkusacimwkcsosbicdxkicaua    6754\n",
       "MISSING                             3725\n",
       "lmkebamcaaclubfxadlmueccxoimlema    1843\n",
       "usilxuppasemubllopkaafesmlibmsdf    1375\n",
       "ewpakwlliwisiwduibdlfmalxowmwpci     893\n",
       "other                                 16\n",
       "Name: channel_sales, dtype: int64"
      ]
     },
     "execution_count": 19,
     "metadata": {},
     "output_type": "execute_result"
    }
   ],
   "source": [
    "#value counts for channel_sales\n",
    "counts=data['channel_sales'].value_counts()\n",
    "#set all the channel_sales the=at are less than 100 to 'other'\n",
    "mask=data['channel_sales'].isin(counts[counts<100].index)\n",
    "data['channel_sales'][mask]='other'\n",
    "data['channel_sales'].value_counts()"
   ]
  },
  {
   "cell_type": "code",
   "execution_count": 20,
   "id": "0257c3ba",
   "metadata": {},
   "outputs": [
    {
     "data": {
      "text/html": [
       "<div>\n",
       "<style scoped>\n",
       "    .dataframe tbody tr th:only-of-type {\n",
       "        vertical-align: middle;\n",
       "    }\n",
       "\n",
       "    .dataframe tbody tr th {\n",
       "        vertical-align: top;\n",
       "    }\n",
       "\n",
       "    .dataframe thead th {\n",
       "        text-align: right;\n",
       "    }\n",
       "</style>\n",
       "<table border=\"1\" class=\"dataframe\">\n",
       "  <thead>\n",
       "    <tr style=\"text-align: right;\">\n",
       "      <th></th>\n",
       "      <th>channel_ew</th>\n",
       "      <th>channel_fo</th>\n",
       "      <th>channel_lm</th>\n",
       "      <th>channel_ot</th>\n",
       "      <th>channel_us</th>\n",
       "    </tr>\n",
       "  </thead>\n",
       "  <tbody>\n",
       "    <tr>\n",
       "      <th>0</th>\n",
       "      <td>0</td>\n",
       "      <td>1</td>\n",
       "      <td>0</td>\n",
       "      <td>0</td>\n",
       "      <td>0</td>\n",
       "    </tr>\n",
       "    <tr>\n",
       "      <th>1</th>\n",
       "      <td>0</td>\n",
       "      <td>0</td>\n",
       "      <td>0</td>\n",
       "      <td>0</td>\n",
       "      <td>0</td>\n",
       "    </tr>\n",
       "    <tr>\n",
       "      <th>2</th>\n",
       "      <td>0</td>\n",
       "      <td>1</td>\n",
       "      <td>0</td>\n",
       "      <td>0</td>\n",
       "      <td>0</td>\n",
       "    </tr>\n",
       "    <tr>\n",
       "      <th>3</th>\n",
       "      <td>0</td>\n",
       "      <td>0</td>\n",
       "      <td>1</td>\n",
       "      <td>0</td>\n",
       "      <td>0</td>\n",
       "    </tr>\n",
       "    <tr>\n",
       "      <th>4</th>\n",
       "      <td>0</td>\n",
       "      <td>0</td>\n",
       "      <td>0</td>\n",
       "      <td>0</td>\n",
       "      <td>0</td>\n",
       "    </tr>\n",
       "  </tbody>\n",
       "</table>\n",
       "</div>"
      ],
      "text/plain": [
       "   channel_ew  channel_fo  channel_lm  channel_ot  channel_us\n",
       "0           0           1           0           0           0\n",
       "1           0           0           0           0           0\n",
       "2           0           1           0           0           0\n",
       "3           0           0           1           0           0\n",
       "4           0           0           0           0           0"
      ]
     },
     "execution_count": 20,
     "metadata": {},
     "output_type": "execute_result"
    }
   ],
   "source": [
    "#create dummies for channel_sales column\n",
    "channel_sales=pd.get_dummies(data['channel_sales'],prefix='channel',drop_first=True)\n",
    "#Renaming the column\n",
    "channel_sales.columns=[col_name[:10] for col_name in channel_sales.columns ]\n",
    "channel_sales.head()"
   ]
  },
  {
   "cell_type": "code",
   "execution_count": 21,
   "id": "d7026cd9",
   "metadata": {},
   "outputs": [
    {
     "name": "stderr",
     "output_type": "stream",
     "text": [
      "<ipython-input-21-2113f5aa8ff1>:5: SettingWithCopyWarning: \n",
      "A value is trying to be set on a copy of a slice from a DataFrame\n",
      "\n",
      "See the caveats in the documentation: https://pandas.pydata.org/pandas-docs/stable/user_guide/indexing.html#returning-a-view-versus-a-copy\n",
      "  data['origin_up'][mask]='other'\n"
     ]
    },
    {
     "data": {
      "text/plain": [
       "lxidpiddsbxsbosboudacockeimpuepw    7097\n",
       "kamkkxfxxuwbdslkwifmmcsiusiuosws    4294\n",
       "ldkssxwpmemidmecebumciepifcamkci    3148\n",
       "other                                 67\n",
       "Name: origin_up, dtype: int64"
      ]
     },
     "execution_count": 21,
     "metadata": {},
     "output_type": "execute_result"
    }
   ],
   "source": [
    "#value counts for origin_up\n",
    "counts=data['origin_up'].value_counts()\n",
    "#set all the origin_up that are less than 100 to 'other'\n",
    "mask=data['origin_up'].isin(counts[counts<100].index)\n",
    "data['origin_up'][mask]='other'\n",
    "data['origin_up'].value_counts()"
   ]
  },
  {
   "cell_type": "code",
   "execution_count": 22,
   "id": "e5e57967",
   "metadata": {},
   "outputs": [
    {
     "data": {
      "text/html": [
       "<div>\n",
       "<style scoped>\n",
       "    .dataframe tbody tr th:only-of-type {\n",
       "        vertical-align: middle;\n",
       "    }\n",
       "\n",
       "    .dataframe tbody tr th {\n",
       "        vertical-align: top;\n",
       "    }\n",
       "\n",
       "    .dataframe thead th {\n",
       "        text-align: right;\n",
       "    }\n",
       "</style>\n",
       "<table border=\"1\" class=\"dataframe\">\n",
       "  <thead>\n",
       "    <tr style=\"text-align: right;\">\n",
       "      <th></th>\n",
       "      <th>origin_ldk</th>\n",
       "      <th>origin_lxi</th>\n",
       "      <th>origin_oth</th>\n",
       "    </tr>\n",
       "  </thead>\n",
       "  <tbody>\n",
       "    <tr>\n",
       "      <th>0</th>\n",
       "      <td>0</td>\n",
       "      <td>1</td>\n",
       "      <td>0</td>\n",
       "    </tr>\n",
       "    <tr>\n",
       "      <th>1</th>\n",
       "      <td>0</td>\n",
       "      <td>0</td>\n",
       "      <td>0</td>\n",
       "    </tr>\n",
       "    <tr>\n",
       "      <th>2</th>\n",
       "      <td>0</td>\n",
       "      <td>0</td>\n",
       "      <td>0</td>\n",
       "    </tr>\n",
       "    <tr>\n",
       "      <th>3</th>\n",
       "      <td>0</td>\n",
       "      <td>0</td>\n",
       "      <td>0</td>\n",
       "    </tr>\n",
       "    <tr>\n",
       "      <th>4</th>\n",
       "      <td>0</td>\n",
       "      <td>0</td>\n",
       "      <td>0</td>\n",
       "    </tr>\n",
       "  </tbody>\n",
       "</table>\n",
       "</div>"
      ],
      "text/plain": [
       "   origin_ldk  origin_lxi  origin_oth\n",
       "0           0           1           0\n",
       "1           0           0           0\n",
       "2           0           0           0\n",
       "3           0           0           0\n",
       "4           0           0           0"
      ]
     },
     "execution_count": 22,
     "metadata": {},
     "output_type": "execute_result"
    }
   ],
   "source": [
    "#create dummies for origin_up  column\n",
    "origin_up=pd.get_dummies(data['origin_up'],prefix='origin',drop_first=True)\n",
    "#Renaming the column\n",
    "origin_up.columns=[col_name[:10] for col_name in origin_up.columns ]\n",
    "origin_up.head()"
   ]
  },
  {
   "cell_type": "code",
   "execution_count": 23,
   "id": "9a179429",
   "metadata": {},
   "outputs": [
    {
     "data": {
      "text/html": [
       "<div>\n",
       "<style scoped>\n",
       "    .dataframe tbody tr th:only-of-type {\n",
       "        vertical-align: middle;\n",
       "    }\n",
       "\n",
       "    .dataframe tbody tr th {\n",
       "        vertical-align: top;\n",
       "    }\n",
       "\n",
       "    .dataframe thead th {\n",
       "        text-align: right;\n",
       "    }\n",
       "</style>\n",
       "<table border=\"1\" class=\"dataframe\">\n",
       "  <thead>\n",
       "    <tr style=\"text-align: right;\">\n",
       "      <th></th>\n",
       "      <th>id</th>\n",
       "      <th>channel_sales</th>\n",
       "      <th>cons_12m</th>\n",
       "      <th>cons_gas_12m</th>\n",
       "      <th>cons_last_month</th>\n",
       "      <th>date_activ</th>\n",
       "      <th>date_end</th>\n",
       "      <th>date_modif_prod</th>\n",
       "      <th>date_renewal</th>\n",
       "      <th>forecast_cons_12m</th>\n",
       "      <th>...</th>\n",
       "      <th>var_year_price_p2_y</th>\n",
       "      <th>var_year_price_p3_y</th>\n",
       "      <th>channel_ew</th>\n",
       "      <th>channel_fo</th>\n",
       "      <th>channel_lm</th>\n",
       "      <th>channel_ot</th>\n",
       "      <th>channel_us</th>\n",
       "      <th>origin_ldk</th>\n",
       "      <th>origin_lxi</th>\n",
       "      <th>origin_oth</th>\n",
       "    </tr>\n",
       "  </thead>\n",
       "  <tbody>\n",
       "    <tr>\n",
       "      <th>0</th>\n",
       "      <td>24011ae4ebbe3035111d65fa7c15bc57</td>\n",
       "      <td>foosdfpfkusacimwkcsosbicdxkicaua</td>\n",
       "      <td>0</td>\n",
       "      <td>54946</td>\n",
       "      <td>0</td>\n",
       "      <td>2013-06-15</td>\n",
       "      <td>2016-06-15</td>\n",
       "      <td>2015-11-01</td>\n",
       "      <td>2015-06-23</td>\n",
       "      <td>0.00</td>\n",
       "      <td>...</td>\n",
       "      <td>9.953056e+01</td>\n",
       "      <td>4.423670e+01</td>\n",
       "      <td>0</td>\n",
       "      <td>1</td>\n",
       "      <td>0</td>\n",
       "      <td>0</td>\n",
       "      <td>0</td>\n",
       "      <td>0</td>\n",
       "      <td>1</td>\n",
       "      <td>0</td>\n",
       "    </tr>\n",
       "    <tr>\n",
       "      <th>1</th>\n",
       "      <td>d29c2c54acc38ff3c0614d0a653813dd</td>\n",
       "      <td>MISSING</td>\n",
       "      <td>4660</td>\n",
       "      <td>0</td>\n",
       "      <td>0</td>\n",
       "      <td>2009-08-21</td>\n",
       "      <td>2016-08-30</td>\n",
       "      <td>2009-08-21</td>\n",
       "      <td>2015-08-31</td>\n",
       "      <td>189.95</td>\n",
       "      <td>...</td>\n",
       "      <td>1.217891e-03</td>\n",
       "      <td>0.000000e+00</td>\n",
       "      <td>0</td>\n",
       "      <td>0</td>\n",
       "      <td>0</td>\n",
       "      <td>0</td>\n",
       "      <td>0</td>\n",
       "      <td>0</td>\n",
       "      <td>0</td>\n",
       "      <td>0</td>\n",
       "    </tr>\n",
       "    <tr>\n",
       "      <th>2</th>\n",
       "      <td>764c75f661154dac3a6c254cd082ea7d</td>\n",
       "      <td>foosdfpfkusacimwkcsosbicdxkicaua</td>\n",
       "      <td>544</td>\n",
       "      <td>0</td>\n",
       "      <td>0</td>\n",
       "      <td>2010-04-16</td>\n",
       "      <td>2016-04-16</td>\n",
       "      <td>2010-04-16</td>\n",
       "      <td>2015-04-17</td>\n",
       "      <td>47.96</td>\n",
       "      <td>...</td>\n",
       "      <td>9.450150e-08</td>\n",
       "      <td>0.000000e+00</td>\n",
       "      <td>0</td>\n",
       "      <td>1</td>\n",
       "      <td>0</td>\n",
       "      <td>0</td>\n",
       "      <td>0</td>\n",
       "      <td>0</td>\n",
       "      <td>0</td>\n",
       "      <td>0</td>\n",
       "    </tr>\n",
       "    <tr>\n",
       "      <th>3</th>\n",
       "      <td>bba03439a292a1e166f80264c16191cb</td>\n",
       "      <td>lmkebamcaaclubfxadlmueccxoimlema</td>\n",
       "      <td>1584</td>\n",
       "      <td>0</td>\n",
       "      <td>0</td>\n",
       "      <td>2010-03-30</td>\n",
       "      <td>2016-03-30</td>\n",
       "      <td>2010-03-30</td>\n",
       "      <td>2015-03-31</td>\n",
       "      <td>240.04</td>\n",
       "      <td>...</td>\n",
       "      <td>0.000000e+00</td>\n",
       "      <td>0.000000e+00</td>\n",
       "      <td>0</td>\n",
       "      <td>0</td>\n",
       "      <td>1</td>\n",
       "      <td>0</td>\n",
       "      <td>0</td>\n",
       "      <td>0</td>\n",
       "      <td>0</td>\n",
       "      <td>0</td>\n",
       "    </tr>\n",
       "    <tr>\n",
       "      <th>4</th>\n",
       "      <td>149d57cf92fc41cf94415803a877cb4b</td>\n",
       "      <td>MISSING</td>\n",
       "      <td>4425</td>\n",
       "      <td>0</td>\n",
       "      <td>526</td>\n",
       "      <td>2010-01-13</td>\n",
       "      <td>2016-03-07</td>\n",
       "      <td>2010-01-13</td>\n",
       "      <td>2015-03-09</td>\n",
       "      <td>445.75</td>\n",
       "      <td>...</td>\n",
       "      <td>2.896760e-06</td>\n",
       "      <td>4.860000e-10</td>\n",
       "      <td>0</td>\n",
       "      <td>0</td>\n",
       "      <td>0</td>\n",
       "      <td>0</td>\n",
       "      <td>0</td>\n",
       "      <td>0</td>\n",
       "      <td>0</td>\n",
       "      <td>0</td>\n",
       "    </tr>\n",
       "  </tbody>\n",
       "</table>\n",
       "<p>5 rows × 55 columns</p>\n",
       "</div>"
      ],
      "text/plain": [
       "                                 id                     channel_sales  \\\n",
       "0  24011ae4ebbe3035111d65fa7c15bc57  foosdfpfkusacimwkcsosbicdxkicaua   \n",
       "1  d29c2c54acc38ff3c0614d0a653813dd                           MISSING   \n",
       "2  764c75f661154dac3a6c254cd082ea7d  foosdfpfkusacimwkcsosbicdxkicaua   \n",
       "3  bba03439a292a1e166f80264c16191cb  lmkebamcaaclubfxadlmueccxoimlema   \n",
       "4  149d57cf92fc41cf94415803a877cb4b                           MISSING   \n",
       "\n",
       "   cons_12m  cons_gas_12m  cons_last_month date_activ   date_end  \\\n",
       "0         0         54946                0 2013-06-15 2016-06-15   \n",
       "1      4660             0                0 2009-08-21 2016-08-30   \n",
       "2       544             0                0 2010-04-16 2016-04-16   \n",
       "3      1584             0                0 2010-03-30 2016-03-30   \n",
       "4      4425             0              526 2010-01-13 2016-03-07   \n",
       "\n",
       "  date_modif_prod date_renewal  forecast_cons_12m  ...  var_year_price_p2_y  \\\n",
       "0      2015-11-01   2015-06-23               0.00  ...         9.953056e+01   \n",
       "1      2009-08-21   2015-08-31             189.95  ...         1.217891e-03   \n",
       "2      2010-04-16   2015-04-17              47.96  ...         9.450150e-08   \n",
       "3      2010-03-30   2015-03-31             240.04  ...         0.000000e+00   \n",
       "4      2010-01-13   2015-03-09             445.75  ...         2.896760e-06   \n",
       "\n",
       "   var_year_price_p3_y  channel_ew  channel_fo  channel_lm  channel_ot  \\\n",
       "0         4.423670e+01           0           1           0           0   \n",
       "1         0.000000e+00           0           0           0           0   \n",
       "2         0.000000e+00           0           1           0           0   \n",
       "3         0.000000e+00           0           0           1           0   \n",
       "4         4.860000e-10           0           0           0           0   \n",
       "\n",
       "  channel_us  origin_ldk  origin_lxi  origin_oth  \n",
       "0          0           0           1           0  \n",
       "1          0           0           0           0  \n",
       "2          0           0           0           0  \n",
       "3          0           0           0           0  \n",
       "4          0           0           0           0  \n",
       "\n",
       "[5 rows x 55 columns]"
      ]
     },
     "execution_count": 23,
     "metadata": {},
     "output_type": "execute_result"
    }
   ],
   "source": [
    "# Merging the dummies dataframe to our dataset\n",
    "data=data.merge(channel_sales,left_index=True,right_index=True)\n",
    "data=data.merge(origin_up,left_index=True,right_index=True)\n",
    "data.head()"
   ]
  },
  {
   "cell_type": "code",
   "execution_count": 24,
   "id": "6fa9481f",
   "metadata": {},
   "outputs": [],
   "source": [
    "#droping the unimportant columns\n",
    "data=data.drop(['channel_sales','origin_up','date_activ','id','date_activ','date_end','date_modif_prod','date_renewal'],axis=1)\n"
   ]
  },
  {
   "cell_type": "code",
   "execution_count": 25,
   "id": "b0bc5f71",
   "metadata": {},
   "outputs": [],
   "source": [
    "#coverting the has_gas column's value to 1 and 0 inseatd of 't' and 'f'\n",
    "data['has_gas']=data['has_gas'].replace({'t':1,'f':0})"
   ]
  },
  {
   "cell_type": "code",
   "execution_count": 26,
   "id": "1974b6c2",
   "metadata": {},
   "outputs": [
    {
     "name": "stdout",
     "output_type": "stream",
     "text": [
      "<class 'pandas.core.frame.DataFrame'>\n",
      "Int64Index: 14606 entries, 0 to 14605\n",
      "Data columns (total 48 columns):\n",
      " #   Column                           Non-Null Count  Dtype  \n",
      "---  ------                           --------------  -----  \n",
      " 0   cons_12m                         14606 non-null  int64  \n",
      " 1   cons_gas_12m                     14606 non-null  int64  \n",
      " 2   cons_last_month                  14606 non-null  int64  \n",
      " 3   forecast_cons_12m                14606 non-null  float64\n",
      " 4   forecast_cons_year               14606 non-null  int64  \n",
      " 5   forecast_discount_energy         14606 non-null  float64\n",
      " 6   forecast_meter_rent_12m          14606 non-null  float64\n",
      " 7   forecast_price_energy_off_peak   14606 non-null  float64\n",
      " 8   forecast_price_energy_peak       14606 non-null  float64\n",
      " 9   forecast_price_pow_off_peak      14606 non-null  float64\n",
      " 10  has_gas                          14606 non-null  int64  \n",
      " 11  imp_cons                         14606 non-null  float64\n",
      " 12  margin_gross_pow_ele             14606 non-null  float64\n",
      " 13  margin_net_pow_ele               14606 non-null  float64\n",
      " 14  nb_prod_act                      14606 non-null  int64  \n",
      " 15  net_margin                       14606 non-null  float64\n",
      " 16  num_years_antig                  14606 non-null  int64  \n",
      " 17  pow_max                          14606 non-null  float64\n",
      " 18  churn                            14606 non-null  int64  \n",
      " 19  offpeak_diff_dec_january_energy  14606 non-null  float64\n",
      " 20  offpeak_diff_dec_january_power   14606 non-null  float64\n",
      " 21  tenure                           14606 non-null  float64\n",
      " 22  price_off_peak_var_x             14606 non-null  float64\n",
      " 23  price_peak_var_x                 14606 non-null  float64\n",
      " 24  price_mid_peak_var_x             14606 non-null  float64\n",
      " 25  price_off_peak_fix_x             14606 non-null  float64\n",
      " 26  price_peak_fix_x                 14606 non-null  float64\n",
      " 27  price_mid_peak_fix_x             14606 non-null  float64\n",
      " 28  var_year_price_p1_x              14606 non-null  float64\n",
      " 29  var_year_price_p2_x              14606 non-null  float64\n",
      " 30  var_year_price_p3_x              14606 non-null  float64\n",
      " 31  price_off_peak_var_y             14606 non-null  float64\n",
      " 32  price_peak_var_y                 14606 non-null  float64\n",
      " 33  price_mid_peak_var_y             14606 non-null  float64\n",
      " 34  price_off_peak_fix_y             14606 non-null  float64\n",
      " 35  price_peak_fix_y                 14606 non-null  float64\n",
      " 36  price_mid_peak_fix_y             14606 non-null  float64\n",
      " 37  var_year_price_p1_y              14606 non-null  float64\n",
      " 38  var_year_price_p2_y              14606 non-null  float64\n",
      " 39  var_year_price_p3_y              14606 non-null  float64\n",
      " 40  channel_ew                       14606 non-null  uint8  \n",
      " 41  channel_fo                       14606 non-null  uint8  \n",
      " 42  channel_lm                       14606 non-null  uint8  \n",
      " 43  channel_ot                       14606 non-null  uint8  \n",
      " 44  channel_us                       14606 non-null  uint8  \n",
      " 45  origin_ldk                       14606 non-null  uint8  \n",
      " 46  origin_lxi                       14606 non-null  uint8  \n",
      " 47  origin_oth                       14606 non-null  uint8  \n",
      "dtypes: float64(32), int64(8), uint8(8)\n",
      "memory usage: 5.2 MB\n"
     ]
    }
   ],
   "source": [
    "#checking the types\n",
    "data.info()"
   ]
  },
  {
   "cell_type": "markdown",
   "id": "0c5f0ec2",
   "metadata": {},
   "source": [
    "### 3. Scaling"
   ]
  },
  {
   "cell_type": "markdown",
   "id": "c5e2ef62",
   "metadata": {},
   "source": [
    "from our EDA visualization we knew that most of continues columns are highly skewed to the right so we will use the log scaller to scale them."
   ]
  },
  {
   "cell_type": "markdown",
   "id": "c200b7e4",
   "metadata": {},
   "source": [
    "##### Checking for some particular columns"
   ]
  },
  {
   "cell_type": "code",
   "execution_count": 27,
   "id": "9ce9abc0",
   "metadata": {},
   "outputs": [
    {
     "data": {
      "text/plain": [
       "count    14606.000000\n",
       "mean         0.966726\n",
       "std          5.108289\n",
       "min          0.000000\n",
       "25%          0.000000\n",
       "50%          0.000000\n",
       "75%          0.000000\n",
       "max         30.000000\n",
       "Name: forecast_discount_energy, dtype: float64"
      ]
     },
     "execution_count": 27,
     "metadata": {},
     "output_type": "execute_result"
    }
   ],
   "source": [
    "#understaning forecast_discount_energy column\n",
    "data['forecast_discount_energy'].describe()"
   ]
  },
  {
   "cell_type": "code",
   "execution_count": 28,
   "id": "0556c17f",
   "metadata": {},
   "outputs": [
    {
     "name": "stderr",
     "output_type": "stream",
     "text": [
      "C:\\Users\\H\\anaconda3\\lib\\site-packages\\seaborn\\distributions.py:2557: FutureWarning: `distplot` is a deprecated function and will be removed in a future version. Please adapt your code to use either `displot` (a figure-level function with similar flexibility) or `histplot` (an axes-level function for histograms).\n",
      "  warnings.warn(msg, FutureWarning)\n"
     ]
    },
    {
     "data": {
      "text/plain": [
       "<AxesSubplot:xlabel='forecast_discount_energy', ylabel='Density'>"
      ]
     },
     "execution_count": 28,
     "metadata": {},
     "output_type": "execute_result"
    },
    {
     "data": {
      "image/png": "[encoded data removed]",
      "text/plain": [
       "<Figure size 1080x576 with 1 Axes>"
      ]
     },
     "metadata": {
      "needs_background": "light"
     },
     "output_type": "display_data"
    }
   ],
   "source": [
    "#ploting the distribution of the column\n",
    "plt.figure(figsize=(15,8))\n",
    "sns.distplot(data['forecast_discount_energy'])"
   ]
  },
  {
   "cell_type": "markdown",
   "id": "7803f2e5",
   "metadata": {},
   "source": [
    "> almost 90% of the entries are zero"
   ]
  },
  {
   "cell_type": "markdown",
   "id": "2b9651e3",
   "metadata": {},
   "source": [
    "Let's check if there is trend with churn column"
   ]
  },
  {
   "cell_type": "code",
   "execution_count": 29,
   "id": "05ea7a68",
   "metadata": {},
   "outputs": [
    {
     "data": {
      "text/html": [
       "<div>\n",
       "<style scoped>\n",
       "    .dataframe tbody tr th:only-of-type {\n",
       "        vertical-align: middle;\n",
       "    }\n",
       "\n",
       "    .dataframe tbody tr th {\n",
       "        vertical-align: top;\n",
       "    }\n",
       "\n",
       "    .dataframe thead th {\n",
       "        text-align: right;\n",
       "    }\n",
       "</style>\n",
       "<table border=\"1\" class=\"dataframe\">\n",
       "  <thead>\n",
       "    <tr style=\"text-align: right;\">\n",
       "      <th></th>\n",
       "      <th>forecast_discount_energy</th>\n",
       "      <th>churn</th>\n",
       "    </tr>\n",
       "  </thead>\n",
       "  <tbody>\n",
       "    <tr>\n",
       "      <th>31</th>\n",
       "      <td>30.0</td>\n",
       "      <td>0</td>\n",
       "    </tr>\n",
       "    <tr>\n",
       "      <th>57</th>\n",
       "      <td>24.0</td>\n",
       "      <td>0</td>\n",
       "    </tr>\n",
       "    <tr>\n",
       "      <th>88</th>\n",
       "      <td>28.0</td>\n",
       "      <td>0</td>\n",
       "    </tr>\n",
       "    <tr>\n",
       "      <th>106</th>\n",
       "      <td>30.0</td>\n",
       "      <td>0</td>\n",
       "    </tr>\n",
       "    <tr>\n",
       "      <th>129</th>\n",
       "      <td>30.0</td>\n",
       "      <td>0</td>\n",
       "    </tr>\n",
       "    <tr>\n",
       "      <th>...</th>\n",
       "      <td>...</td>\n",
       "      <td>...</td>\n",
       "    </tr>\n",
       "    <tr>\n",
       "      <th>14483</th>\n",
       "      <td>28.0</td>\n",
       "      <td>1</td>\n",
       "    </tr>\n",
       "    <tr>\n",
       "      <th>14526</th>\n",
       "      <td>30.0</td>\n",
       "      <td>0</td>\n",
       "    </tr>\n",
       "    <tr>\n",
       "      <th>14531</th>\n",
       "      <td>23.0</td>\n",
       "      <td>0</td>\n",
       "    </tr>\n",
       "    <tr>\n",
       "      <th>14533</th>\n",
       "      <td>24.0</td>\n",
       "      <td>0</td>\n",
       "    </tr>\n",
       "    <tr>\n",
       "      <th>14584</th>\n",
       "      <td>24.0</td>\n",
       "      <td>0</td>\n",
       "    </tr>\n",
       "  </tbody>\n",
       "</table>\n",
       "<p>512 rows × 2 columns</p>\n",
       "</div>"
      ],
      "text/plain": [
       "       forecast_discount_energy  churn\n",
       "31                         30.0      0\n",
       "57                         24.0      0\n",
       "88                         28.0      0\n",
       "106                        30.0      0\n",
       "129                        30.0      0\n",
       "...                         ...    ...\n",
       "14483                      28.0      1\n",
       "14526                      30.0      0\n",
       "14531                      23.0      0\n",
       "14533                      24.0      0\n",
       "14584                      24.0      0\n",
       "\n",
       "[512 rows x 2 columns]"
      ]
     },
     "execution_count": 29,
     "metadata": {},
     "output_type": "execute_result"
    }
   ],
   "source": [
    "#checking the correlation between it and churn\n",
    "forecast_discount_energy=data[data['forecast_discount_energy']>0]\n",
    "forecast_discount_energy[['forecast_discount_energy','churn']]"
   ]
  },
  {
   "cell_type": "code",
   "execution_count": 30,
   "id": "0e5a941b",
   "metadata": {},
   "outputs": [
    {
     "data": {
      "text/plain": [
       "0    13187\n",
       "1     1419\n",
       "Name: churn, dtype: int64"
      ]
     },
     "execution_count": 30,
     "metadata": {},
     "output_type": "execute_result"
    }
   ],
   "source": [
    "data['churn'].value_counts()"
   ]
  },
  {
   "cell_type": "code",
   "execution_count": 31,
   "id": "bf25a4c6",
   "metadata": {},
   "outputs": [],
   "source": [
    "#droping forecast_discount_energy column\n",
    "data=data.drop(['forecast_discount_energy'],axis=1)"
   ]
  },
  {
   "cell_type": "code",
   "execution_count": 32,
   "id": "e44badf9",
   "metadata": {},
   "outputs": [
    {
     "data": {
      "text/plain": [
       "count    14606.000000\n",
       "mean         0.050491\n",
       "std          0.049037\n",
       "min          0.000000\n",
       "25%          0.000000\n",
       "50%          0.084138\n",
       "75%          0.098837\n",
       "max          0.195975\n",
       "Name: forecast_price_energy_peak, dtype: float64"
      ]
     },
     "execution_count": 32,
     "metadata": {},
     "output_type": "execute_result"
    }
   ],
   "source": [
    "#understaning forecast_price_energy_peak column\n",
    "data.forecast_price_energy_peak.describe()"
   ]
  },
  {
   "cell_type": "code",
   "execution_count": 33,
   "id": "28fc2cf5",
   "metadata": {},
   "outputs": [
    {
     "name": "stderr",
     "output_type": "stream",
     "text": [
      "C:\\Users\\H\\anaconda3\\lib\\site-packages\\seaborn\\distributions.py:2557: FutureWarning: `distplot` is a deprecated function and will be removed in a future version. Please adapt your code to use either `displot` (a figure-level function with similar flexibility) or `histplot` (an axes-level function for histograms).\n",
      "  warnings.warn(msg, FutureWarning)\n"
     ]
    },
    {
     "data": {
      "text/plain": [
       "<AxesSubplot:xlabel='forecast_price_energy_peak', ylabel='Density'>"
      ]
     },
     "execution_count": 33,
     "metadata": {},
     "output_type": "execute_result"
    },
    {
     "data": {
      "image/png": "[encoded data removed]",
      "text/plain": [
       "<Figure size 1080x576 with 1 Axes>"
      ]
     },
     "metadata": {
      "needs_background": "light"
     },
     "output_type": "display_data"
    }
   ],
   "source": [
    "plt.figure(figsize=(15,8))\n",
    "sns.distplot(data.forecast_price_energy_peak)"
   ]
  },
  {
   "cell_type": "code",
   "execution_count": 34,
   "id": "a8e57ff9",
   "metadata": {},
   "outputs": [
    {
     "name": "stdout",
     "output_type": "stream",
     "text": [
      "Zero entites in forecast_price_energy_peak columns id 7021\n",
      "Nanzero entites in forecast_price_energy_peak columns id 7585\n"
     ]
    }
   ],
   "source": [
    "#checking the numbur of zero value in forecast_price_energy_peak coulmn\n",
    "zero=data['forecast_price_energy_peak'][data['forecast_price_energy_peak']==0].count()\n",
    "print('Zero entites in forecast_price_energy_peak columns id {}'.format(zero))\n",
    "print('Nanzero entites in forecast_price_energy_peak columns id {}'.format(data['forecast_price_energy_peak'].count()-zero))\n"
   ]
  },
  {
   "cell_type": "code",
   "execution_count": 35,
   "id": "62f09840",
   "metadata": {},
   "outputs": [],
   "source": [
    "# scaling \n",
    "from sklearn.preprocessing import PowerTransformer\n",
    "pow_trans = PowerTransformer()\n",
    "scale=data.drop(['channel_ew','channel_fo','channel_lm','channel_ot','channel_us','origin_ldk','origin_lxi','origin_oth','tenure',\n",
    "          'num_years_antig','has_gas','churn'],axis=1).columns\n",
    "data[scale]=pow_trans.fit_transform(data[scale])"
   ]
  },
  {
   "cell_type": "code",
   "execution_count": 36,
   "id": "1a2835ec",
   "metadata": {},
   "outputs": [
    {
     "data": {
      "text/plain": [
       "0        1\n",
       "1        0\n",
       "2        0\n",
       "3        0\n",
       "4        0\n",
       "        ..\n",
       "14601    0\n",
       "14602    1\n",
       "14603    1\n",
       "14604    0\n",
       "14605    0\n",
       "Name: churn, Length: 14606, dtype: int64"
      ]
     },
     "execution_count": 36,
     "metadata": {},
     "output_type": "execute_result"
    }
   ],
   "source": [
    "data['churn']"
   ]
  },
  {
   "cell_type": "code",
   "execution_count": 37,
   "id": "75ca0a1a",
   "metadata": {},
   "outputs": [
    {
     "name": "stderr",
     "output_type": "stream",
     "text": [
      "C:\\Users\\H\\anaconda3\\lib\\site-packages\\seaborn\\distributions.py:2557: FutureWarning: `distplot` is a deprecated function and will be removed in a future version. Please adapt your code to use either `displot` (a figure-level function with similar flexibility) or `histplot` (an axes-level function for histograms).\n",
      "  warnings.warn(msg, FutureWarning)\n"
     ]
    },
    {
     "data": {
      "text/plain": [
       "<AxesSubplot:xlabel='cons_12m', ylabel='Density'>"
      ]
     },
     "execution_count": 37,
     "metadata": {},
     "output_type": "execute_result"
    },
    {
     "data": {
      "image/png": "[encoded data removed]",
      "text/plain": [
       "<Figure size 432x288 with 1 Axes>"
      ]
     },
     "metadata": {
      "needs_background": "light"
     },
     "output_type": "display_data"
    }
   ],
   "source": [
    "sns.distplot(data['cons_12m'])"
   ]
  },
  {
   "cell_type": "markdown",
   "id": "aa277fb0",
   "metadata": {},
   "source": [
    "# 4. Removing the outliers"
   ]
  },
  {
   "cell_type": "code",
   "execution_count": 38,
   "id": "019a8f79",
   "metadata": {},
   "outputs": [
    {
     "data": {
      "text/plain": [
       "14606"
      ]
     },
     "execution_count": 38,
     "metadata": {},
     "output_type": "execute_result"
    }
   ],
   "source": [
    "data['cons_12m'].count()"
   ]
  },
  {
   "cell_type": "code",
   "execution_count": 39,
   "id": "b7687b31",
   "metadata": {},
   "outputs": [
    {
     "data": {
      "text/html": [
       "<div>\n",
       "<style scoped>\n",
       "    .dataframe tbody tr th:only-of-type {\n",
       "        vertical-align: middle;\n",
       "    }\n",
       "\n",
       "    .dataframe tbody tr th {\n",
       "        vertical-align: top;\n",
       "    }\n",
       "\n",
       "    .dataframe thead th {\n",
       "        text-align: right;\n",
       "    }\n",
       "</style>\n",
       "<table border=\"1\" class=\"dataframe\">\n",
       "  <thead>\n",
       "    <tr style=\"text-align: right;\">\n",
       "      <th></th>\n",
       "      <th>cons_12m</th>\n",
       "      <th>cons_gas_12m</th>\n",
       "      <th>cons_last_month</th>\n",
       "      <th>forecast_cons_12m</th>\n",
       "      <th>forecast_cons_year</th>\n",
       "      <th>forecast_meter_rent_12m</th>\n",
       "      <th>forecast_price_energy_off_peak</th>\n",
       "      <th>forecast_price_energy_peak</th>\n",
       "      <th>forecast_price_pow_off_peak</th>\n",
       "      <th>has_gas</th>\n",
       "      <th>...</th>\n",
       "      <th>var_year_price_p2_y</th>\n",
       "      <th>var_year_price_p3_y</th>\n",
       "      <th>channel_ew</th>\n",
       "      <th>channel_fo</th>\n",
       "      <th>channel_lm</th>\n",
       "      <th>channel_ot</th>\n",
       "      <th>channel_us</th>\n",
       "      <th>origin_ldk</th>\n",
       "      <th>origin_lxi</th>\n",
       "      <th>origin_oth</th>\n",
       "    </tr>\n",
       "  </thead>\n",
       "  <tbody>\n",
       "    <tr>\n",
       "      <th>0</th>\n",
       "      <td>-4.280929</td>\n",
       "      <td>2.160341</td>\n",
       "      <td>-1.251502</td>\n",
       "      <td>-2.612719</td>\n",
       "      <td>-1.116591</td>\n",
       "      <td>-1.695059</td>\n",
       "      <td>-0.927814</td>\n",
       "      <td>0.972152</td>\n",
       "      <td>-0.755337</td>\n",
       "      <td>1</td>\n",
       "      <td>...</td>\n",
       "      <td>6.714365</td>\n",
       "      <td>6.576838</td>\n",
       "      <td>0</td>\n",
       "      <td>1</td>\n",
       "      <td>0</td>\n",
       "      <td>0</td>\n",
       "      <td>0</td>\n",
       "      <td>0</td>\n",
       "      <td>1</td>\n",
       "      <td>0</td>\n",
       "    </tr>\n",
       "    <tr>\n",
       "      <th>1</th>\n",
       "      <td>-0.646618</td>\n",
       "      <td>-0.466538</td>\n",
       "      <td>-1.251502</td>\n",
       "      <td>-1.191201</td>\n",
       "      <td>-1.116591</td>\n",
       "      <td>-0.591072</td>\n",
       "      <td>0.336334</td>\n",
       "      <td>-1.030113</td>\n",
       "      <td>0.265474</td>\n",
       "      <td>0</td>\n",
       "      <td>...</td>\n",
       "      <td>-0.104369</td>\n",
       "      <td>-0.202029</td>\n",
       "      <td>0</td>\n",
       "      <td>0</td>\n",
       "      <td>0</td>\n",
       "      <td>0</td>\n",
       "      <td>0</td>\n",
       "      <td>0</td>\n",
       "      <td>0</td>\n",
       "      <td>0</td>\n",
       "    </tr>\n",
       "    <tr>\n",
       "      <th>2</th>\n",
       "      <td>-1.644613</td>\n",
       "      <td>-0.466538</td>\n",
       "      <td>-1.251502</td>\n",
       "      <td>-1.766172</td>\n",
       "      <td>-1.116591</td>\n",
       "      <td>0.038246</td>\n",
       "      <td>1.161217</td>\n",
       "      <td>0.766739</td>\n",
       "      <td>0.265474</td>\n",
       "      <td>0</td>\n",
       "      <td>...</td>\n",
       "      <td>-0.211999</td>\n",
       "      <td>-0.202029</td>\n",
       "      <td>0</td>\n",
       "      <td>1</td>\n",
       "      <td>0</td>\n",
       "      <td>0</td>\n",
       "      <td>0</td>\n",
       "      <td>0</td>\n",
       "      <td>0</td>\n",
       "      <td>0</td>\n",
       "    </tr>\n",
       "    <tr>\n",
       "      <th>3</th>\n",
       "      <td>-1.154945</td>\n",
       "      <td>-0.466538</td>\n",
       "      <td>-1.251502</td>\n",
       "      <td>-1.070040</td>\n",
       "      <td>-1.116591</td>\n",
       "      <td>-0.457136</td>\n",
       "      <td>0.376493</td>\n",
       "      <td>-1.030113</td>\n",
       "      <td>0.265474</td>\n",
       "      <td>0</td>\n",
       "      <td>...</td>\n",
       "      <td>-0.212008</td>\n",
       "      <td>-0.202029</td>\n",
       "      <td>0</td>\n",
       "      <td>0</td>\n",
       "      <td>1</td>\n",
       "      <td>0</td>\n",
       "      <td>0</td>\n",
       "      <td>0</td>\n",
       "      <td>0</td>\n",
       "      <td>0</td>\n",
       "    </tr>\n",
       "    <tr>\n",
       "      <th>4</th>\n",
       "      <td>-0.671315</td>\n",
       "      <td>-0.466538</td>\n",
       "      <td>0.199090</td>\n",
       "      <td>-0.710098</td>\n",
       "      <td>0.552272</td>\n",
       "      <td>1.123683</td>\n",
       "      <td>-0.830708</td>\n",
       "      <td>1.009628</td>\n",
       "      <td>-0.755337</td>\n",
       "      <td>0</td>\n",
       "      <td>...</td>\n",
       "      <td>-0.211749</td>\n",
       "      <td>-0.202029</td>\n",
       "      <td>0</td>\n",
       "      <td>0</td>\n",
       "      <td>0</td>\n",
       "      <td>0</td>\n",
       "      <td>0</td>\n",
       "      <td>0</td>\n",
       "      <td>0</td>\n",
       "      <td>0</td>\n",
       "    </tr>\n",
       "  </tbody>\n",
       "</table>\n",
       "<p>5 rows × 47 columns</p>\n",
       "</div>"
      ],
      "text/plain": [
       "   cons_12m  cons_gas_12m  cons_last_month  forecast_cons_12m  \\\n",
       "0 -4.280929      2.160341        -1.251502          -2.612719   \n",
       "1 -0.646618     -0.466538        -1.251502          -1.191201   \n",
       "2 -1.644613     -0.466538        -1.251502          -1.766172   \n",
       "3 -1.154945     -0.466538        -1.251502          -1.070040   \n",
       "4 -0.671315     -0.466538         0.199090          -0.710098   \n",
       "\n",
       "   forecast_cons_year  forecast_meter_rent_12m  \\\n",
       "0           -1.116591                -1.695059   \n",
       "1           -1.116591                -0.591072   \n",
       "2           -1.116591                 0.038246   \n",
       "3           -1.116591                -0.457136   \n",
       "4            0.552272                 1.123683   \n",
       "\n",
       "   forecast_price_energy_off_peak  forecast_price_energy_peak  \\\n",
       "0                       -0.927814                    0.972152   \n",
       "1                        0.336334                   -1.030113   \n",
       "2                        1.161217                    0.766739   \n",
       "3                        0.376493                   -1.030113   \n",
       "4                       -0.830708                    1.009628   \n",
       "\n",
       "   forecast_price_pow_off_peak  has_gas  ...  var_year_price_p2_y  \\\n",
       "0                    -0.755337        1  ...             6.714365   \n",
       "1                     0.265474        0  ...            -0.104369   \n",
       "2                     0.265474        0  ...            -0.211999   \n",
       "3                     0.265474        0  ...            -0.212008   \n",
       "4                    -0.755337        0  ...            -0.211749   \n",
       "\n",
       "   var_year_price_p3_y  channel_ew  channel_fo  channel_lm  channel_ot  \\\n",
       "0             6.576838           0           1           0           0   \n",
       "1            -0.202029           0           0           0           0   \n",
       "2            -0.202029           0           1           0           0   \n",
       "3            -0.202029           0           0           1           0   \n",
       "4            -0.202029           0           0           0           0   \n",
       "\n",
       "   channel_us  origin_ldk  origin_lxi  origin_oth  \n",
       "0           0           0           1           0  \n",
       "1           0           0           0           0  \n",
       "2           0           0           0           0  \n",
       "3           0           0           0           0  \n",
       "4           0           0           0           0  \n",
       "\n",
       "[5 rows x 47 columns]"
      ]
     },
     "execution_count": 39,
     "metadata": {},
     "output_type": "execute_result"
    }
   ],
   "source": [
    "data.head()"
   ]
  },
  {
   "cell_type": "code",
   "execution_count": 40,
   "id": "c688de4e",
   "metadata": {},
   "outputs": [],
   "source": [
    "#Removing outliers\n",
    "\n",
    "for i in scale:\n",
    "    std=data[i].std()\n",
    "    mean=data[i].mean()\n",
    "    cut_off=3*std\n",
    "    lower,upper=mean-cut_off,mean+cut_off\n",
    "    data=data[(data[i]<upper) & (data[i]> lower)]"
   ]
  },
  {
   "cell_type": "code",
   "execution_count": 41,
   "id": "654998f5",
   "metadata": {},
   "outputs": [
    {
     "data": {
      "text/plain": [
       "9564"
      ]
     },
     "execution_count": 41,
     "metadata": {},
     "output_type": "execute_result"
    }
   ],
   "source": [
    "data['cons_12m'].count()"
   ]
  },
  {
   "cell_type": "markdown",
   "id": "458a4967",
   "metadata": {},
   "source": [
    "# Modeling"
   ]
  },
  {
   "cell_type": "code",
   "execution_count": 42,
   "id": "4aa3902e",
   "metadata": {},
   "outputs": [],
   "source": [
    "#spliting the data to X and y\n",
    "X=data.drop('churn',axis=1)\n",
    "y=data['churn']"
   ]
  },
  {
   "cell_type": "code",
   "execution_count": 43,
   "id": "a06406a3",
   "metadata": {},
   "outputs": [],
   "source": [
    "from sklearn.model_selection import train_test_split\n",
    "from sklearn.ensemble import RandomForestClassifier\n",
    "#spliting the data to training and testing\n",
    "X_train,X_test,y_train,y_test=train_test_split(X,y,test_size=0.2,random_state=1111)"
   ]
  },
  {
   "cell_type": "code",
   "execution_count": 44,
   "id": "1eaec99e",
   "metadata": {},
   "outputs": [
    {
     "data": {
      "text/plain": [
       "(1913, 46)"
      ]
     },
     "execution_count": 44,
     "metadata": {},
     "output_type": "execute_result"
    }
   ],
   "source": [
    "X_test.shape"
   ]
  },
  {
   "cell_type": "code",
   "execution_count": 45,
   "id": "62e90c1a",
   "metadata": {},
   "outputs": [],
   "source": [
    "rf=RandomForestClassifier(n_estimators=1000)\n",
    "rf.fit(X_train,y_train)\n",
    "y_pred=rf.predict(X_test)"
   ]
  },
  {
   "cell_type": "code",
   "execution_count": 46,
   "id": "8e4b3a99",
   "metadata": {},
   "outputs": [
    {
     "name": "stdout",
     "output_type": "stream",
     "text": [
      "1.0\n",
      "0.9236800836382645\n"
     ]
    }
   ],
   "source": [
    "print(rf.score(X_train,y_train))\n",
    "print(rf.score(X_test,y_test))"
   ]
  },
  {
   "cell_type": "code",
   "execution_count": 47,
   "id": "0800c53f",
   "metadata": {},
   "outputs": [],
   "source": [
    "# creating a function to evaluate the model\n",
    "def evaluation(model,y_pred):\n",
    "    train_score=model.score(X_train,y_train)\n",
    "    test_score=model.score(X_test,y_test)\n",
    "    print('the training score is {}'.format(round(train_score,2)))\n",
    "    print('the test score is {}'.format(round(test_score,2)))\n",
    "    print('_________________________________')\n",
    "    from sklearn.metrics import confusion_matrix,recall_score,precision_score,accuracy_score\n",
    "    print('The confusion matrix is')\n",
    "    print(confusion_matrix(y_test,y_pred))\n",
    "    print('_________________________________')\n",
    "    recall=recall_score(y_test,y_pred)\n",
    "    precision=precision_score(y_test,y_pred)\n",
    "    accuracy=accuracy_score(y_test,y_pred)\n",
    "    print('recall score is {}'.format(round(recall,2)))\n",
    "    print('precision score is {}'.format(round(precision,2)))\n",
    "    print('Accuracy score is {}'.format(round(accuracy,2)))"
   ]
  },
  {
   "cell_type": "code",
   "execution_count": 48,
   "id": "e27f7e96",
   "metadata": {
    "scrolled": true
   },
   "outputs": [
    {
     "data": {
      "text/plain": [
       "0    1757\n",
       "1     156\n",
       "Name: churn, dtype: int64"
      ]
     },
     "execution_count": 48,
     "metadata": {},
     "output_type": "execute_result"
    }
   ],
   "source": [
    "y_test.value_counts()"
   ]
  },
  {
   "cell_type": "code",
   "execution_count": 49,
   "id": "a27d738a",
   "metadata": {},
   "outputs": [
    {
     "name": "stdout",
     "output_type": "stream",
     "text": [
      "the training score is 1.0\n",
      "the test score is 0.92\n",
      "_________________________________\n",
      "The confusion matrix is\n",
      "[[1755    2]\n",
      " [ 144   12]]\n",
      "_________________________________\n",
      "recall score is 0.08\n",
      "precision score is 0.86\n",
      "Accuracy score is 0.92\n"
     ]
    }
   ],
   "source": [
    "evaluation(rf,y_pred)"
   ]
  },
  {
   "cell_type": "markdown",
   "id": "87af1585",
   "metadata": {},
   "source": [
    "<ul>\n",
    "    <li>so out of 1757 of the negative values, the model predected 1755 right which is very great</li>\n",
    "    <li> but out of 156 of the posivtive values the model predected 12 right which is very poor performance</li>\n",
    "</ul>\n",
    "so know we will try some techniques to get a better result"
   ]
  },
  {
   "cell_type": "markdown",
   "id": "290d20a3",
   "metadata": {},
   "source": [
    "# Oversampling"
   ]
  },
  {
   "cell_type": "code",
   "execution_count": 50,
   "id": "3627ef6c",
   "metadata": {},
   "outputs": [
    {
     "data": {
      "text/plain": [
       "0    8690\n",
       "1    8690\n",
       "Name: churn, dtype: int64"
      ]
     },
     "execution_count": 50,
     "metadata": {},
     "output_type": "execute_result"
    }
   ],
   "source": [
    "from imblearn.over_sampling import SMOTE\n",
    "oversampling=SMOTE()\n",
    "X,y=oversampling.fit_resample(X,y)\n",
    "y.value_counts()"
   ]
  },
  {
   "cell_type": "code",
   "execution_count": 51,
   "id": "f73a31ac",
   "metadata": {},
   "outputs": [
    {
     "name": "stdout",
     "output_type": "stream",
     "text": [
      "1.0\n",
      "0.9548331415420023\n"
     ]
    }
   ],
   "source": [
    "X_train,X_test,y_train,y_test=train_test_split(X,y,test_size=0.2)\n",
    "rf=RandomForestClassifier()\n",
    "rf.fit(X_train,y_train)\n",
    "y_pred=rf.predict(X_test)\n",
    "print(rf.score(X_train,y_train))\n",
    "print(rf.score(X_test,y_test))"
   ]
  },
  {
   "cell_type": "code",
   "execution_count": 53,
   "id": "732ca528",
   "metadata": {},
   "outputs": [
    {
     "data": {
      "text/plain": [
       "0    1748\n",
       "1    1728\n",
       "Name: churn, dtype: int64"
      ]
     },
     "execution_count": 53,
     "metadata": {},
     "output_type": "execute_result"
    }
   ],
   "source": [
    "y_test.value_counts()"
   ]
  },
  {
   "cell_type": "code",
   "execution_count": 52,
   "id": "2a161fcd",
   "metadata": {},
   "outputs": [
    {
     "name": "stdout",
     "output_type": "stream",
     "text": [
      "the training score is 1.0\n",
      "the test score is 0.95\n",
      "_________________________________\n",
      "The confusion matrix is\n",
      "[[1723   25]\n",
      " [ 132 1596]]\n",
      "_________________________________\n",
      "recall score is 0.92\n",
      "precision score is 0.98\n",
      "Accuracy score is 0.95\n"
     ]
    }
   ],
   "source": [
    "evaluation(rf,y_pred)"
   ]
  },
  {
   "cell_type": "markdown",
   "id": "88ffb1d3",
   "metadata": {},
   "source": [
    "<ul>\n",
    "    <li>so out of 1748 of the negative values, the model predected 1723 right which is still very great</li>\n",
    "    <li> but out of 1728 of the posivtive values the model predected 1596 right which is awesome</li>\n",
    "</ul>\n",
    "so know we will Tune our model to get the best result as we can"
   ]
  },
  {
   "cell_type": "markdown",
   "id": "61ec8ddb",
   "metadata": {},
   "source": [
    "# Tunning"
   ]
  },
  {
   "cell_type": "code",
   "execution_count": 54,
   "id": "6e71f99d",
   "metadata": {},
   "outputs": [
    {
     "name": "stdout",
     "output_type": "stream",
     "text": [
      "Fitting 3 folds for each of 100 candidates, totalling 300 fits\n"
     ]
    },
    {
     "data": {
      "text/plain": [
       "RandomizedSearchCV(cv=3, estimator=RandomForestClassifier(), n_iter=100,\n",
       "                   n_jobs=-1,\n",
       "                   param_distributions={'bootstrap': [True, False],\n",
       "                                        'max_depth': [10, 20, 30, 40, 50, 60,\n",
       "                                                      70, 80, 90, 100, 110,\n",
       "                                                      None],\n",
       "                                        'max_features': ['auto', 'sqrt'],\n",
       "                                        'min_samples_leaf': [1, 2, 4],\n",
       "                                        'min_samples_split': [2, 5, 10],\n",
       "                                        'n_estimators': [200, 400, 600, 800,\n",
       "                                                         1000, 1200, 1400, 1600,\n",
       "                                                         1800, 2000]},\n",
       "                   random_state=42, scoring='recall', verbose=2)"
      ]
     },
     "execution_count": 54,
     "metadata": {},
     "output_type": "execute_result"
    }
   ],
   "source": [
    "from sklearn.model_selection import RandomizedSearchCV\n",
    "# Number of trees in random forest\n",
    "n_estimators = [int(x) for x in np.linspace(start = 200, stop = 2000, num = 10)]\n",
    "# Number of features to consider at every split\n",
    "max_features = ['auto', 'sqrt']\n",
    "# Maximum number of levels in tree\n",
    "max_depth = [int(x) for x in np.linspace(10, 110, num = 11)]\n",
    "max_depth.append(None)\n",
    "# Minimum number of samples required to split a node\n",
    "min_samples_split = [2, 5, 10]\n",
    "# Minimum number of samples required at each leaf node\n",
    "min_samples_leaf = [1, 2, 4]\n",
    "# Method of selecting samples for training each tree\n",
    "bootstrap = [True, False]\n",
    "# Create the random grid\n",
    "random_grid = {'n_estimators': n_estimators,\n",
    "               'max_features': max_features,\n",
    "               'max_depth': max_depth,\n",
    "               'min_samples_split': min_samples_split,\n",
    "               'min_samples_leaf': min_samples_leaf,\n",
    "               'bootstrap': bootstrap}\n",
    "# search across 100 different combinations, and use all available cores\n",
    "rf_random = RandomizedSearchCV(estimator = rf, param_distributions = random_grid, n_iter = 100, cv = 3,scoring='recall' ,verbose=2, random_state=42, n_jobs = -1)\n",
    "# Fit the random search model\n",
    "rf_random.fit(X_train, y_train)"
   ]
  },
  {
   "cell_type": "code",
   "execution_count": 55,
   "id": "a81ed701",
   "metadata": {},
   "outputs": [
    {
     "data": {
      "text/plain": [
       "{'n_estimators': 1400,\n",
       " 'min_samples_split': 2,\n",
       " 'min_samples_leaf': 1,\n",
       " 'max_features': 'auto',\n",
       " 'max_depth': 40,\n",
       " 'bootstrap': False}"
      ]
     },
     "execution_count": 55,
     "metadata": {},
     "output_type": "execute_result"
    }
   ],
   "source": [
    "rf_random.best_params_"
   ]
  },
  {
   "cell_type": "code",
   "execution_count": 56,
   "id": "54d4c6ac",
   "metadata": {},
   "outputs": [
    {
     "data": {
      "text/plain": [
       "0.9199936734562492"
      ]
     },
     "execution_count": 56,
     "metadata": {},
     "output_type": "execute_result"
    }
   ],
   "source": [
    "rf_random.best_score_"
   ]
  },
  {
   "cell_type": "code",
   "execution_count": 57,
   "id": "615a650e",
   "metadata": {},
   "outputs": [
    {
     "name": "stdout",
     "output_type": "stream",
     "text": [
      "the training score is 1.0\n",
      "the test score is 0.96\n",
      "_________________________________\n",
      "The confusion matrix is\n",
      "[[1729   19]\n",
      " [ 104 1624]]\n",
      "_________________________________\n",
      "recall score is 0.94\n",
      "precision score is 0.99\n",
      "Accuracy score is 0.96\n"
     ]
    }
   ],
   "source": [
    "model_random=rf_random.best_estimator_\n",
    "y_pred=model_random.predict(X_test)\n",
    "evaluation(model_random,y_pred)"
   ]
  },
  {
   "cell_type": "code",
   "execution_count": 58,
   "id": "98f724df",
   "metadata": {},
   "outputs": [
    {
     "data": {
      "text/html": [
       "<div>\n",
       "<style scoped>\n",
       "    .dataframe tbody tr th:only-of-type {\n",
       "        vertical-align: middle;\n",
       "    }\n",
       "\n",
       "    .dataframe tbody tr th {\n",
       "        vertical-align: top;\n",
       "    }\n",
       "\n",
       "    .dataframe thead th {\n",
       "        text-align: right;\n",
       "    }\n",
       "</style>\n",
       "<table border=\"1\" class=\"dataframe\">\n",
       "  <thead>\n",
       "    <tr style=\"text-align: right;\">\n",
       "      <th></th>\n",
       "      <th>mean_fit_time</th>\n",
       "      <th>std_fit_time</th>\n",
       "      <th>mean_score_time</th>\n",
       "      <th>std_score_time</th>\n",
       "      <th>param_n_estimators</th>\n",
       "      <th>param_min_samples_split</th>\n",
       "      <th>param_min_samples_leaf</th>\n",
       "      <th>param_max_features</th>\n",
       "      <th>param_max_depth</th>\n",
       "      <th>param_bootstrap</th>\n",
       "      <th>params</th>\n",
       "      <th>split0_test_score</th>\n",
       "      <th>split1_test_score</th>\n",
       "      <th>split2_test_score</th>\n",
       "      <th>mean_test_score</th>\n",
       "      <th>std_test_score</th>\n",
       "      <th>rank_test_score</th>\n",
       "    </tr>\n",
       "  </thead>\n",
       "  <tbody>\n",
       "    <tr>\n",
       "      <th>0</th>\n",
       "      <td>13.167264</td>\n",
       "      <td>0.090021</td>\n",
       "      <td>0.746203</td>\n",
       "      <td>0.019563</td>\n",
       "      <td>400</td>\n",
       "      <td>5</td>\n",
       "      <td>1</td>\n",
       "      <td>sqrt</td>\n",
       "      <td>30</td>\n",
       "      <td>True</td>\n",
       "      <td>{'n_estimators': 400, 'min_samples_split': 5, ...</td>\n",
       "      <td>0.898320</td>\n",
       "      <td>0.921155</td>\n",
       "      <td>0.903879</td>\n",
       "      <td>0.907785</td>\n",
       "      <td>0.009723</td>\n",
       "      <td>22</td>\n",
       "    </tr>\n",
       "    <tr>\n",
       "      <th>1</th>\n",
       "      <td>50.310577</td>\n",
       "      <td>0.577572</td>\n",
       "      <td>2.523315</td>\n",
       "      <td>0.072866</td>\n",
       "      <td>2000</td>\n",
       "      <td>5</td>\n",
       "      <td>1</td>\n",
       "      <td>sqrt</td>\n",
       "      <td>10</td>\n",
       "      <td>True</td>\n",
       "      <td>{'n_estimators': 2000, 'min_samples_split': 5,...</td>\n",
       "      <td>0.846618</td>\n",
       "      <td>0.855235</td>\n",
       "      <td>0.851293</td>\n",
       "      <td>0.851049</td>\n",
       "      <td>0.003522</td>\n",
       "      <td>93</td>\n",
       "    </tr>\n",
       "    <tr>\n",
       "      <th>2</th>\n",
       "      <td>43.677405</td>\n",
       "      <td>0.272100</td>\n",
       "      <td>1.487967</td>\n",
       "      <td>0.019660</td>\n",
       "      <td>1200</td>\n",
       "      <td>5</td>\n",
       "      <td>2</td>\n",
       "      <td>sqrt</td>\n",
       "      <td>10</td>\n",
       "      <td>False</td>\n",
       "      <td>{'n_estimators': 1200, 'min_samples_split': 5,...</td>\n",
       "      <td>0.852219</td>\n",
       "      <td>0.861267</td>\n",
       "      <td>0.852586</td>\n",
       "      <td>0.855357</td>\n",
       "      <td>0.004181</td>\n",
       "      <td>90</td>\n",
       "    </tr>\n",
       "    <tr>\n",
       "      <th>3</th>\n",
       "      <td>94.511992</td>\n",
       "      <td>2.039816</td>\n",
       "      <td>4.211830</td>\n",
       "      <td>0.224841</td>\n",
       "      <td>2000</td>\n",
       "      <td>2</td>\n",
       "      <td>4</td>\n",
       "      <td>auto</td>\n",
       "      <td>30</td>\n",
       "      <td>False</td>\n",
       "      <td>{'n_estimators': 2000, 'min_samples_split': 2,...</td>\n",
       "      <td>0.889703</td>\n",
       "      <td>0.914692</td>\n",
       "      <td>0.894828</td>\n",
       "      <td>0.899741</td>\n",
       "      <td>0.010777</td>\n",
       "      <td>51</td>\n",
       "    </tr>\n",
       "    <tr>\n",
       "      <th>4</th>\n",
       "      <td>40.223621</td>\n",
       "      <td>0.405882</td>\n",
       "      <td>2.315161</td>\n",
       "      <td>0.416811</td>\n",
       "      <td>1600</td>\n",
       "      <td>2</td>\n",
       "      <td>4</td>\n",
       "      <td>sqrt</td>\n",
       "      <td>10</td>\n",
       "      <td>True</td>\n",
       "      <td>{'n_estimators': 1600, 'min_samples_split': 2,...</td>\n",
       "      <td>0.832831</td>\n",
       "      <td>0.846618</td>\n",
       "      <td>0.841810</td>\n",
       "      <td>0.840420</td>\n",
       "      <td>0.005714</td>\n",
       "      <td>98</td>\n",
       "    </tr>\n",
       "    <tr>\n",
       "      <th>5</th>\n",
       "      <td>36.978285</td>\n",
       "      <td>0.409742</td>\n",
       "      <td>1.491189</td>\n",
       "      <td>0.100759</td>\n",
       "      <td>800</td>\n",
       "      <td>5</td>\n",
       "      <td>4</td>\n",
       "      <td>sqrt</td>\n",
       "      <td>30</td>\n",
       "      <td>False</td>\n",
       "      <td>{'n_estimators': 800, 'min_samples_split': 5, ...</td>\n",
       "      <td>0.890564</td>\n",
       "      <td>0.913830</td>\n",
       "      <td>0.893103</td>\n",
       "      <td>0.899166</td>\n",
       "      <td>0.010421</td>\n",
       "      <td>59</td>\n",
       "    </tr>\n",
       "    <tr>\n",
       "      <th>6</th>\n",
       "      <td>48.637636</td>\n",
       "      <td>0.592583</td>\n",
       "      <td>1.828771</td>\n",
       "      <td>0.016741</td>\n",
       "      <td>1000</td>\n",
       "      <td>5</td>\n",
       "      <td>2</td>\n",
       "      <td>sqrt</td>\n",
       "      <td>100</td>\n",
       "      <td>False</td>\n",
       "      <td>{'n_estimators': 1000, 'min_samples_split': 5,...</td>\n",
       "      <td>0.902628</td>\n",
       "      <td>0.922878</td>\n",
       "      <td>0.905172</td>\n",
       "      <td>0.910226</td>\n",
       "      <td>0.009006</td>\n",
       "      <td>20</td>\n",
       "    </tr>\n",
       "    <tr>\n",
       "      <th>7</th>\n",
       "      <td>29.496258</td>\n",
       "      <td>0.565070</td>\n",
       "      <td>1.089976</td>\n",
       "      <td>0.029896</td>\n",
       "      <td>600</td>\n",
       "      <td>5</td>\n",
       "      <td>1</td>\n",
       "      <td>sqrt</td>\n",
       "      <td>60</td>\n",
       "      <td>False</td>\n",
       "      <td>{'n_estimators': 600, 'min_samples_split': 5, ...</td>\n",
       "      <td>0.910814</td>\n",
       "      <td>0.924601</td>\n",
       "      <td>0.907328</td>\n",
       "      <td>0.914248</td>\n",
       "      <td>0.007458</td>\n",
       "      <td>10</td>\n",
       "    </tr>\n",
       "    <tr>\n",
       "      <th>8</th>\n",
       "      <td>49.583988</td>\n",
       "      <td>1.171266</td>\n",
       "      <td>1.846472</td>\n",
       "      <td>0.026996</td>\n",
       "      <td>1000</td>\n",
       "      <td>2</td>\n",
       "      <td>1</td>\n",
       "      <td>auto</td>\n",
       "      <td>50</td>\n",
       "      <td>False</td>\n",
       "      <td>{'n_estimators': 1000, 'min_samples_split': 2,...</td>\n",
       "      <td>0.913399</td>\n",
       "      <td>0.929341</td>\n",
       "      <td>0.916810</td>\n",
       "      <td>0.919850</td>\n",
       "      <td>0.006854</td>\n",
       "      <td>2</td>\n",
       "    </tr>\n",
       "    <tr>\n",
       "      <th>9</th>\n",
       "      <td>63.854028</td>\n",
       "      <td>0.648524</td>\n",
       "      <td>2.267733</td>\n",
       "      <td>0.071713</td>\n",
       "      <td>1800</td>\n",
       "      <td>5</td>\n",
       "      <td>4</td>\n",
       "      <td>auto</td>\n",
       "      <td>10</td>\n",
       "      <td>False</td>\n",
       "      <td>{'n_estimators': 1800, 'min_samples_split': 5,...</td>\n",
       "      <td>0.844894</td>\n",
       "      <td>0.852650</td>\n",
       "      <td>0.851724</td>\n",
       "      <td>0.849756</td>\n",
       "      <td>0.003458</td>\n",
       "      <td>95</td>\n",
       "    </tr>\n",
       "  </tbody>\n",
       "</table>\n",
       "</div>"
      ],
      "text/plain": [
       "   mean_fit_time  std_fit_time  mean_score_time  std_score_time  \\\n",
       "0      13.167264      0.090021         0.746203        0.019563   \n",
       "1      50.310577      0.577572         2.523315        0.072866   \n",
       "2      43.677405      0.272100         1.487967        0.019660   \n",
       "3      94.511992      2.039816         4.211830        0.224841   \n",
       "4      40.223621      0.405882         2.315161        0.416811   \n",
       "5      36.978285      0.409742         1.491189        0.100759   \n",
       "6      48.637636      0.592583         1.828771        0.016741   \n",
       "7      29.496258      0.565070         1.089976        0.029896   \n",
       "8      49.583988      1.171266         1.846472        0.026996   \n",
       "9      63.854028      0.648524         2.267733        0.071713   \n",
       "\n",
       "  param_n_estimators param_min_samples_split param_min_samples_leaf  \\\n",
       "0                400                       5                      1   \n",
       "1               2000                       5                      1   \n",
       "2               1200                       5                      2   \n",
       "3               2000                       2                      4   \n",
       "4               1600                       2                      4   \n",
       "5                800                       5                      4   \n",
       "6               1000                       5                      2   \n",
       "7                600                       5                      1   \n",
       "8               1000                       2                      1   \n",
       "9               1800                       5                      4   \n",
       "\n",
       "  param_max_features param_max_depth param_bootstrap  \\\n",
       "0               sqrt              30            True   \n",
       "1               sqrt              10            True   \n",
       "2               sqrt              10           False   \n",
       "3               auto              30           False   \n",
       "4               sqrt              10            True   \n",
       "5               sqrt              30           False   \n",
       "6               sqrt             100           False   \n",
       "7               sqrt              60           False   \n",
       "8               auto              50           False   \n",
       "9               auto              10           False   \n",
       "\n",
       "                                              params  split0_test_score  \\\n",
       "0  {'n_estimators': 400, 'min_samples_split': 5, ...           0.898320   \n",
       "1  {'n_estimators': 2000, 'min_samples_split': 5,...           0.846618   \n",
       "2  {'n_estimators': 1200, 'min_samples_split': 5,...           0.852219   \n",
       "3  {'n_estimators': 2000, 'min_samples_split': 2,...           0.889703   \n",
       "4  {'n_estimators': 1600, 'min_samples_split': 2,...           0.832831   \n",
       "5  {'n_estimators': 800, 'min_samples_split': 5, ...           0.890564   \n",
       "6  {'n_estimators': 1000, 'min_samples_split': 5,...           0.902628   \n",
       "7  {'n_estimators': 600, 'min_samples_split': 5, ...           0.910814   \n",
       "8  {'n_estimators': 1000, 'min_samples_split': 2,...           0.913399   \n",
       "9  {'n_estimators': 1800, 'min_samples_split': 5,...           0.844894   \n",
       "\n",
       "   split1_test_score  split2_test_score  mean_test_score  std_test_score  \\\n",
       "0           0.921155           0.903879         0.907785        0.009723   \n",
       "1           0.855235           0.851293         0.851049        0.003522   \n",
       "2           0.861267           0.852586         0.855357        0.004181   \n",
       "3           0.914692           0.894828         0.899741        0.010777   \n",
       "4           0.846618           0.841810         0.840420        0.005714   \n",
       "5           0.913830           0.893103         0.899166        0.010421   \n",
       "6           0.922878           0.905172         0.910226        0.009006   \n",
       "7           0.924601           0.907328         0.914248        0.007458   \n",
       "8           0.929341           0.916810         0.919850        0.006854   \n",
       "9           0.852650           0.851724         0.849756        0.003458   \n",
       "\n",
       "   rank_test_score  \n",
       "0               22  \n",
       "1               93  \n",
       "2               90  \n",
       "3               51  \n",
       "4               98  \n",
       "5               59  \n",
       "6               20  \n",
       "7               10  \n",
       "8                2  \n",
       "9               95  "
      ]
     },
     "execution_count": 58,
     "metadata": {},
     "output_type": "execute_result"
    }
   ],
   "source": [
    "cv_result_df=pd.DataFrame(rf_random.cv_results_)\n",
    "cv_result_df.head(10)"
   ]
  },
  {
   "cell_type": "code",
   "execution_count": 59,
   "id": "72d631c3",
   "metadata": {},
   "outputs": [
    {
     "data": {
      "text/plain": [
       "<AxesSubplot:xlabel='param_n_estimators', ylabel='mean_test_score'>"
      ]
     },
     "execution_count": 59,
     "metadata": {},
     "output_type": "execute_result"
    },
    {
     "data": {
      "image/png": "[encoded data removed]",
      "text/plain": [
       "<Figure size 720x432 with 1 Axes>"
      ]
     },
     "metadata": {
      "needs_background": "light"
     },
     "output_type": "display_data"
    }
   ],
   "source": [
    "# analyzing the result\n",
    "# visualize n_estimators and the recall score\n",
    "plt.figure(figsize=(10,6))\n",
    "sns.scatterplot(data=cv_result_df,x='param_n_estimators',y='mean_test_score')"
   ]
  },
  {
   "cell_type": "markdown",
   "id": "f8df3e1e",
   "metadata": {},
   "source": [
    "The figure shows that n_estimators that have the best recall score is between 400 and 1000"
   ]
  },
  {
   "cell_type": "code",
   "execution_count": 60,
   "id": "ceb4b151",
   "metadata": {},
   "outputs": [
    {
     "data": {
      "text/plain": [
       "<AxesSubplot:xlabel='param_min_samples_split', ylabel='mean_test_score'>"
      ]
     },
     "execution_count": 60,
     "metadata": {},
     "output_type": "execute_result"
    },
    {
     "data": {
      "image/png": "[encoded data removed]",
      "text/plain": [
       "<Figure size 720x432 with 1 Axes>"
      ]
     },
     "metadata": {
      "needs_background": "light"
     },
     "output_type": "display_data"
    }
   ],
   "source": [
    "# visualize min_samples_split and the recall score\n",
    "plt.figure(figsize=(10,6))\n",
    "sns.scatterplot(data=cv_result_df,x='param_min_samples_split',y='mean_test_score')"
   ]
  },
  {
   "cell_type": "markdown",
   "id": "da068b7a",
   "metadata": {},
   "source": [
    "The best number for min_samples_split is 2 (the defult)"
   ]
  },
  {
   "cell_type": "code",
   "execution_count": 61,
   "id": "b2d3d5a6",
   "metadata": {},
   "outputs": [
    {
     "data": {
      "text/plain": [
       "<AxesSubplot:xlabel='param_min_samples_leaf', ylabel='mean_test_score'>"
      ]
     },
     "execution_count": 61,
     "metadata": {},
     "output_type": "execute_result"
    },
    {
     "data": {
      "image/png": "[encoded data removed]",
      "text/plain": [
       "<Figure size 720x432 with 1 Axes>"
      ]
     },
     "metadata": {
      "needs_background": "light"
     },
     "output_type": "display_data"
    }
   ],
   "source": [
    "# visualize min_samples_leaf and the recall score\n",
    "plt.figure(figsize=(10,6))\n",
    "sns.scatterplot(data=cv_result_df,x='param_min_samples_leaf',y='mean_test_score')"
   ]
  },
  {
   "cell_type": "markdown",
   "id": "8e09fb3e",
   "metadata": {},
   "source": [
    "The best number of min_samples_leaf is 1"
   ]
  },
  {
   "cell_type": "code",
   "execution_count": 62,
   "id": "71f35ba0",
   "metadata": {},
   "outputs": [
    {
     "data": {
      "text/plain": [
       "<AxesSubplot:xlabel='param_max_features', ylabel='mean_test_score'>"
      ]
     },
     "execution_count": 62,
     "metadata": {},
     "output_type": "execute_result"
    },
    {
     "data": {
      "image/png": "[encoded data removed]",
      "text/plain": [
       "<Figure size 720x432 with 1 Axes>"
      ]
     },
     "metadata": {
      "needs_background": "light"
     },
     "output_type": "display_data"
    }
   ],
   "source": [
    "# visualize max_features and the recall score\n",
    "plt.figure(figsize=(10,6))\n",
    "sns.scatterplot(data=cv_result_df,x='param_max_features',y='mean_test_score')"
   ]
  },
  {
   "cell_type": "markdown",
   "id": "83d3ee3c",
   "metadata": {},
   "source": [
    "It's hard to detect which one of the param_max_features is the best"
   ]
  },
  {
   "cell_type": "code",
   "execution_count": 63,
   "id": "d62ea701",
   "metadata": {},
   "outputs": [
    {
     "data": {
      "text/plain": [
       "<AxesSubplot:xlabel='param_max_depth', ylabel='mean_test_score'>"
      ]
     },
     "execution_count": 63,
     "metadata": {},
     "output_type": "execute_result"
    },
    {
     "data": {
      "image/png": "[encoded data removed]",
      "text/plain": [
       "<Figure size 720x432 with 1 Axes>"
      ]
     },
     "metadata": {
      "needs_background": "light"
     },
     "output_type": "display_data"
    }
   ],
   "source": [
    "# visualize max_depth and the recall score\n",
    "plt.figure(figsize=(10,6))\n",
    "sns.scatterplot(data=cv_result_df,x='param_max_depth',y='mean_test_score')"
   ]
  },
  {
   "cell_type": "markdown",
   "id": "b2177c3d",
   "metadata": {},
   "source": [
    "best numbers for max_depth is [40,50]"
   ]
  },
  {
   "cell_type": "code",
   "execution_count": 64,
   "id": "ead674fa",
   "metadata": {},
   "outputs": [
    {
     "data": {
      "text/plain": [
       "<AxesSubplot:xlabel='param_bootstrap', ylabel='mean_test_score'>"
      ]
     },
     "execution_count": 64,
     "metadata": {},
     "output_type": "execute_result"
    },
    {
     "data": {
      "image/png": "[encoded data removed]",
      "text/plain": [
       "<Figure size 720x432 with 1 Axes>"
      ]
     },
     "metadata": {
      "needs_background": "light"
     },
     "output_type": "display_data"
    }
   ],
   "source": [
    "# visualize bootstrap and the recall score\n",
    "plt.figure(figsize=(10,6))\n",
    "sns.scatterplot(data=cv_result_df,x='param_bootstrap',y='mean_test_score')"
   ]
  },
  {
   "cell_type": "markdown",
   "id": "15eaae53",
   "metadata": {},
   "source": [
    "we will work with false "
   ]
  },
  {
   "cell_type": "code",
   "execution_count": 65,
   "id": "445e8919",
   "metadata": {},
   "outputs": [
    {
     "data": {
      "text/plain": [
       "GridSearchCV(cv=3, estimator=RandomForestClassifier(bootstrap=False), n_jobs=-1,\n",
       "             param_grid={'max_depth': [40, 50],\n",
       "                         'max_features': ['auto', 'sqrt'],\n",
       "                         'n_estimators': [400, 500, 1000]},\n",
       "             scoring='recall')"
      ]
     },
     "execution_count": 65,
     "metadata": {},
     "output_type": "execute_result"
    }
   ],
   "source": [
    "from sklearn.model_selection import GridSearchCV\n",
    "params={'n_estimators':[400,500,1000],'max_depth':[40,50],'max_features':['auto','sqrt']}\n",
    "rf=RandomForestClassifier(bootstrap=False,min_samples_leaf=1,min_samples_split=2)\n",
    "grid=GridSearchCV(rf,params,cv=3,n_jobs=-1,scoring='recall',refit=True)\n",
    "grid.fit(X_train,y_train)"
   ]
  },
  {
   "cell_type": "code",
   "execution_count": 66,
   "id": "7d094e59",
   "metadata": {},
   "outputs": [
    {
     "data": {
      "text/plain": [
       "{'max_depth': 40, 'max_features': 'auto', 'n_estimators': 500}"
      ]
     },
     "execution_count": 66,
     "metadata": {},
     "output_type": "execute_result"
    }
   ],
   "source": [
    "grid.best_params_"
   ]
  },
  {
   "cell_type": "code",
   "execution_count": 67,
   "id": "bf540bcb",
   "metadata": {},
   "outputs": [
    {
     "data": {
      "text/plain": [
       "0    1748\n",
       "1    1728\n",
       "Name: churn, dtype: int64"
      ]
     },
     "execution_count": 67,
     "metadata": {},
     "output_type": "execute_result"
    }
   ],
   "source": [
    "y_test.value_counts()"
   ]
  },
  {
   "cell_type": "code",
   "execution_count": 69,
   "id": "66aa287f",
   "metadata": {},
   "outputs": [
    {
     "name": "stdout",
     "output_type": "stream",
     "text": [
      "the training score is 1.0\n",
      "the test score is 0.96\n",
      "_________________________________\n",
      "The confusion matrix is\n",
      "[[1728   20]\n",
      " [ 106 1622]]\n",
      "_________________________________\n",
      "recall score is 0.94\n",
      "precision score is 0.99\n",
      "Accuracy score is 0.96\n"
     ]
    }
   ],
   "source": [
    "model_grid=grid.best_estimator_\n",
    "y_pred=model_grid.predict(X_test)\n",
    "evaluation(model_grid,y_pred)"
   ]
  },
  {
   "cell_type": "code",
   "execution_count": 71,
   "id": "6dce196b",
   "metadata": {},
   "outputs": [
    {
     "data": {
      "text/html": [
       "<div>\n",
       "<style scoped>\n",
       "    .dataframe tbody tr th:only-of-type {\n",
       "        vertical-align: middle;\n",
       "    }\n",
       "\n",
       "    .dataframe tbody tr th {\n",
       "        vertical-align: top;\n",
       "    }\n",
       "\n",
       "    .dataframe thead th {\n",
       "        text-align: right;\n",
       "    }\n",
       "</style>\n",
       "<table border=\"1\" class=\"dataframe\">\n",
       "  <thead>\n",
       "    <tr style=\"text-align: right;\">\n",
       "      <th></th>\n",
       "      <th>index</th>\n",
       "      <th>feature</th>\n",
       "      <th>importance</th>\n",
       "    </tr>\n",
       "  </thead>\n",
       "  <tbody>\n",
       "    <tr>\n",
       "      <th>0</th>\n",
       "      <td>26</td>\n",
       "      <td>var_year_price_p1_x</td>\n",
       "      <td>0.077464</td>\n",
       "    </tr>\n",
       "    <tr>\n",
       "      <th>1</th>\n",
       "      <td>23</td>\n",
       "      <td>price_off_peak_fix_x</td>\n",
       "      <td>0.069142</td>\n",
       "    </tr>\n",
       "    <tr>\n",
       "      <th>2</th>\n",
       "      <td>18</td>\n",
       "      <td>offpeak_diff_dec_january_power</td>\n",
       "      <td>0.065732</td>\n",
       "    </tr>\n",
       "    <tr>\n",
       "      <th>3</th>\n",
       "      <td>11</td>\n",
       "      <td>margin_gross_pow_ele</td>\n",
       "      <td>0.051073</td>\n",
       "    </tr>\n",
       "    <tr>\n",
       "      <th>4</th>\n",
       "      <td>12</td>\n",
       "      <td>margin_net_pow_ele</td>\n",
       "      <td>0.048724</td>\n",
       "    </tr>\n",
       "  </tbody>\n",
       "</table>\n",
       "</div>"
      ],
      "text/plain": [
       "   index                         feature  importance\n",
       "0     26             var_year_price_p1_x    0.077464\n",
       "1     23            price_off_peak_fix_x    0.069142\n",
       "2     18  offpeak_diff_dec_january_power    0.065732\n",
       "3     11            margin_gross_pow_ele    0.051073\n",
       "4     12              margin_net_pow_ele    0.048724"
      ]
     },
     "execution_count": 71,
     "metadata": {},
     "output_type": "execute_result"
    }
   ],
   "source": [
    "feature_importance=pd.DataFrame({'feature':X_train.columns,'importance':model_grid.feature_importances_}).sort_values(\n",
    "    by='importance',ascending=False).reset_index()\n",
    "feature_importance.head()"
   ]
  },
  {
   "cell_type": "code",
   "execution_count": 72,
   "id": "5dcc5ea5",
   "metadata": {},
   "outputs": [
    {
     "data": {
      "text/plain": [
       "<AxesSubplot:xlabel='importance', ylabel='feature'>"
      ]
     },
     "execution_count": 72,
     "metadata": {},
     "output_type": "execute_result"
    },
    {
     "data": {
      "image/png": "[encoded data removed]",
      "text/plain": [
       "<Figure size 720x720 with 1 Axes>"
      ]
     },
     "metadata": {
      "needs_background": "light"
     },
     "output_type": "display_data"
    }
   ],
   "source": [
    "plt.figure(figsize=(10,10))\n",
    "sns.barplot(data=feature_importance,x='importance',y='feature')"
   ]
  },
  {
   "cell_type": "code",
   "execution_count": null,
   "id": "afda234a",
   "metadata": {},
   "outputs": [],
   "source": []
  }
 ],
 "metadata": {
  "kernelspec": {
   "display_name": "Python 3",
   "language": "python",
   "name": "python3"
  },
  "language_info": {
   "codemirror_mode": {
    "name": "ipython",
    "version": 3
   },
   "file_extension": ".py",
   "mimetype": "text/x-python",
   "name": "python",
   "nbconvert_exporter": "python",
   "pygments_lexer": "ipython3",
   "version": "3.8.8"
  }
 },
 "nbformat": 4,
 "nbformat_minor": 5
}
